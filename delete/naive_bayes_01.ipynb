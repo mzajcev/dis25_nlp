{
 "cells": [
  {
   "cell_type": "code",
   "execution_count": 6,
   "metadata": {},
   "outputs": [
    {
     "name": "stderr",
     "output_type": "stream",
     "text": [
      "[nltk_data] Downloading package stopwords to\n",
      "[nltk_data]     C:\\Users\\User\\AppData\\Roaming\\nltk_data...\n",
      "[nltk_data]   Package stopwords is already up-to-date!\n",
      "[nltk_data] Downloading package wordnet to\n",
      "[nltk_data]     C:\\Users\\User\\AppData\\Roaming\\nltk_data...\n",
      "[nltk_data]   Package wordnet is already up-to-date!\n"
     ]
    },
    {
     "name": "stdout",
     "output_type": "stream",
     "text": [
      "                                                 text  predicted_sentiment\n",
      "0    could stand film acting terrible plot made sense                    0\n",
      "1   amazing piece cinema performance brilliant sto...                    1\n",
      "2   offce total gem laugh hard ca even steve carel...                    1\n",
      "3                        disappointed movie live hype                    0\n",
      "4   crwn lavish treat costume set gorgeous make fe...                    1\n",
      "5   found film quite boring lacked excitement fail...                    0\n",
      "6                movie hilarious laughed start finish                    0\n",
      "7   black mirror creepy af mess yer mind make ya q...                    0\n",
      "8   high hope series total letdown plot place char...                    0\n",
      "9   acting film superb actor delivered powerful pe...                    1\n",
      "10  could stop thinking movie watched left lasting...                    0\n",
      "11              special effect film visually stunning                    1\n",
      "12  expected movie story felt rushed ending unsati...                    0\n",
      "13           film complete waste time regret watching                    0\n",
      "14  lol friend like daily dose laughter cast amazi...                    1\n",
      "15                 dialogue movie sharp witty writing                    1\n",
      "16  edge seat throughout entire film thrilling exp...                    1\n",
      "17  understand hype surrounding movie live expecta...                    0\n",
      "18  understand people find sitcom funny humor juve...                    0\n",
      "19  performance film lackluster actor seemed disen...                    0\n",
      "20      pacing film perfect kept engaged start finish                    1\n",
      "21    pleasantly surprised movie exceeded expectation                    1\n",
      "22     enjoy film story confusing character unlikable                    0\n",
      "23   cinematography movie breathtaking frame work art                    1\n",
      "24       moved tear film evoked strong emotion within                    1\n",
      "25               movie lot fun great mix action humor                    1\n",
      "26   plot film predictable saw twist coming mile away                    0\n",
      "27  get hype around series nostalgia felt forced s...                    0\n",
      "28            movie letdown deliver promising premise                    0\n",
      "29             captivated story film hooked beginning                    1\n",
      "30  visual effect movie impressive added overall e...                    1\n",
      "31  omg totally addictin twist turn edge seet ca w...                    0\n",
      "32  disappointed ending movie felt rushed unsatisf...                    0\n",
      "33          dialogue movie weak felt forced unnatural                    0\n",
      "34  sherlok genius actin good benedict cumberbatch...                    0\n",
      "35    edge seat throughout film suspenseful thrilling                    1\n",
      "36  meh show tried hard edgy mysterious twist pred...                    0\n",
      "37  like direction movie felt disjointed lacked co...                    0\n",
      "38   movie pleasant surprise offered fresh take genre                    1\n",
      "39  performance film outstanding actor brought cha...                    1\n",
      "40                        bored film story uneventful                    0\n",
      "41  seriously tv show like bad acid trip writing a...                    0\n",
      "42           movie emotionally charged made laugh cry                    1\n",
      "43  production design film impressive created rich...                    1\n",
      "44  strngr thngs retro awesum sooo hooked first ep...                    1\n",
      "45          underwhelmed movie live promising premise                    0\n",
      "46  film kept edge seat constantly guessing would ...                    1\n",
      "47   acting movie subpar felt amateurish unconvincing                    0\n",
      "48  deeply moved film tackled important theme sens...                    1\n",
      "49  mindblowin show actin keep ya hooked end highl...                    1\n"
     ]
    }
   ],
   "source": [
    "import pandas as pd\n",
    "import numpy as np\n",
    "import tensorflow as tf\n",
    "import tensorflow_datasets as tfds\n",
    "from sklearn.feature_extraction.text import CountVectorizer\n",
    "from sklearn.naive_bayes import MultinomialNB\n",
    "from sklearn.metrics import classification_report\n",
    "\n",
    "import nltk\n",
    "from nltk.corpus import stopwords\n",
    "from nltk.tokenize import word_tokenize\n",
    "from nltk.stem import WordNetLemmatizer\n",
    "\n",
    "# Download stopwords and WordNetLemmatizer data (only need to do this once)\n",
    "nltk.download('stopwords')\n",
    "nltk.download('wordnet')\n",
    "\n",
    "# Preprocess the text data\n",
    "def preprocess_text(text):\n",
    "    # Convert text to lowercase\n",
    "    text = text.lower()\n",
    "\n",
    "    # Tokenize text into words\n",
    "    words = word_tokenize(text)\n",
    "\n",
    "    # Remove stopwords and non-alphabetic characters\n",
    "    stop_words = set(stopwords.words('english'))\n",
    "    words = [word for word in words if word.isalpha() and word not in stop_words]\n",
    "\n",
    "    # Lemmatize words\n",
    "    lemmatizer = WordNetLemmatizer()\n",
    "    words = [lemmatizer.lemmatize(word) for word in words]\n",
    "\n",
    "    return ' '.join(words)\n",
    "\n",
    "# Main function to build and train the Naive Bayes classifier\n",
    "def naive_bayes_classifier(X_train, y_train):\n",
    "    # Vectorize the text data using CountVectorizer\n",
    "    vectorizer = CountVectorizer()\n",
    "    X_train_vec = vectorizer.fit_transform(X_train)\n",
    "\n",
    "    # Train the Naive Bayes classifier\n",
    "    nb_classifier = MultinomialNB()\n",
    "    nb_classifier.fit(X_train_vec, y_train)\n",
    "\n",
    "    return vectorizer, nb_classifier\n",
    "\n",
    "# Function to make predictions on new data\n",
    "def predict_sentiment(vectorizer, nb_classifier, X_new):\n",
    "    # Preprocess the new data\n",
    "    X_new_preprocessed = X_new.apply(preprocess_text)\n",
    "\n",
    "    # Vectorize the new data using the same vectorizer\n",
    "    X_new_vec = vectorizer.transform(X_new_preprocessed)\n",
    "\n",
    "    # Make predictions\n",
    "    y_pred = nb_classifier.predict(X_new_vec)\n",
    "\n",
    "    return y_pred\n",
    "\n",
    "if __name__ == '__main__':\n",
    "    # Read the test data from test_data.csv\n",
    "    with open('test_data.csv', 'r', encoding='utf-8') as f:\n",
    "        test_data = f.readlines()\n",
    "\n",
    "    test_data = [line.strip('\\n') for line in test_data]\n",
    "    test_samples_df = pd.DataFrame(test_data, columns=['text'])\n",
    "\n",
    "    # Apply preprocessing to 'text' column of DataFrame\n",
    "    test_samples_df['text'] = test_samples_df['text'].apply(preprocess_text)\n",
    "\n",
    "    # Load the IMDb reviews dataset using TensorFlow Datasets\n",
    "    data, info = tfds.load('imdb_reviews', split='train', with_info=True)\n",
    "\n",
    "    # Access the 'text' and 'label' data directly from the loaded dataset\n",
    "    X_train = np.array([example['text'].numpy().decode('utf-8') for example in data])\n",
    "    y_train = np.array([example['label'].numpy() for example in data])\n",
    "\n",
    "    # Build and train the Naive Bayes classifier\n",
    "    vectorizer, nb_classifier = naive_bayes_classifier(X_train, y_train)\n",
    "\n",
    "    # Make predictions on the test data\n",
    "    X_test_samples = vectorizer.transform(test_samples_df['text'])\n",
    "    predictions = nb_classifier.predict(X_test_samples)\n",
    "\n",
    "    # Add the predicted labels to the test dataframe\n",
    "    test_samples_df['predicted_sentiment'] = predictions\n",
    "\n",
    "    # Display the test dataframe with predicted labels\n",
    "    print(test_samples_df)\n"
   ]
  },
  {
   "cell_type": "code",
   "execution_count": 7,
   "metadata": {},
   "outputs": [
    {
     "name": "stdout",
     "output_type": "stream",
     "text": [
      "[0 1 1 0 1 0 0 0 0 1 0 1 0 0 1 1 1 0 0 0 1 1 0 1 1 1 0 0 0 1 1 0 0 0 0 1 0\n",
      " 0 1 1 0 0 1 1 1 0 1 0 1 1]\n"
     ]
    }
   ],
   "source": [
    "print(predictions)"
   ]
  },
  {
   "cell_type": "code",
   "execution_count": 8,
   "metadata": {},
   "outputs": [
    {
     "name": "stdout",
     "output_type": "stream",
     "text": [
      "              precision    recall  f1-score   support\n",
      "\n",
      "           0       0.65      0.57      0.61        30\n",
      "           1       0.46      0.55      0.50        20\n",
      "\n",
      "    accuracy                           0.56        50\n",
      "   macro avg       0.56      0.56      0.55        50\n",
      "weighted avg       0.58      0.56      0.56        50\n",
      "\n"
     ]
    }
   ],
   "source": [
    "print(classification_report(y_train[:50], predictions))"
   ]
  }
 ],
 "metadata": {
  "kernelspec": {
   "display_name": ".venv",
   "language": "python",
   "name": "python3"
  },
  "language_info": {
   "codemirror_mode": {
    "name": "ipython",
    "version": 3
   },
   "file_extension": ".py",
   "mimetype": "text/x-python",
   "name": "python",
   "nbconvert_exporter": "python",
   "pygments_lexer": "ipython3",
   "version": "3.11.4"
  },
  "orig_nbformat": 4
 },
 "nbformat": 4,
 "nbformat_minor": 2
}
