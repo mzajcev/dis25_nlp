{
 "cells": [
  {
   "cell_type": "code",
   "execution_count": 2,
   "metadata": {},
   "outputs": [
    {
     "name": "stdout",
     "output_type": "stream",
     "text": [
      "Precision: 1.0\n",
      "Recall: 0.9310344827586207\n",
      "F1 Score: 0.9642857142857143\n",
      "Accuracy: 0.96\n"
     ]
    }
   ],
   "source": [
    "import pandas as pd\n",
    "from sklearn.metrics import precision_score, recall_score, f1_score, accuracy_score\n",
    "\n",
    "# Load the data from Excel file\n",
    "df = pd.read_excel('test_50.xlsx')\n",
    "\n",
    "# The column names here ('true_labels', 'predicted_labels') are just placeholders.\n",
    "# Replace them with your actual column names in the Excel file.\n",
    "true_labels = df['true']\n",
    "predicted_logistic = df['pred_log']\n",
    "predicted_naive = df['pred_naive']\n",
    "# Calculate metrics\n",
    "precision = precision_score(true_labels, predicted_logistic, average='binary')\n",
    "recall = recall_score(true_labels, predicted_logistic, average='binary')\n",
    "f1 = f1_score(true_labels, predicted_logistic, average='binary')\n",
    "accuracy = accuracy_score(true_labels, predicted_logistic)\n",
    "\n",
    "print(f'Precision: {precision}')\n",
    "print(f'Recall: {recall}')\n",
    "print(f'F1 Score: {f1}')\n",
    "print(f'Accuracy: {accuracy}')\n"
   ]
  },
  {
   "cell_type": "code",
   "execution_count": 3,
   "metadata": {},
   "outputs": [
    {
     "name": "stdout",
     "output_type": "stream",
     "text": [
      "Precision: 1.0\n",
      "Recall: 0.8620689655172413\n",
      "F1 Score: 0.9259259259259259\n",
      "Accuracy: 0.92\n"
     ]
    }
   ],
   "source": [
    "import pandas as pd\n",
    "from sklearn.metrics import precision_score, recall_score, f1_score, accuracy_score\n",
    "\n",
    "# Load the data from Excel file\n",
    "df = pd.read_excel('test_50.xlsx')\n",
    "\n",
    "# The column names here ('true_labels', 'predicted_labels') are just placeholders.\n",
    "# Replace them with your actual column names in the Excel file.\n",
    "true_labels = df['true']\n",
    "predicted_logistic = df['pred_log']\n",
    "predicted_naive = df['pred_naive']\n",
    "# Calculate metrics\n",
    "precision = precision_score(true_labels, predicted_naive, average='binary')\n",
    "recall = recall_score(true_labels, predicted_naive, average='binary')\n",
    "f1 = f1_score(true_labels, predicted_naive, average='binary')\n",
    "accuracy = accuracy_score(true_labels, predicted_naive)\n",
    "\n",
    "print(f'Precision: {precision}')\n",
    "print(f'Recall: {recall}')\n",
    "print(f'F1 Score: {f1}')\n",
    "print(f'Accuracy: {accuracy}')\n"
   ]
  },
  {
   "cell_type": "code",
   "execution_count": null,
   "metadata": {},
   "outputs": [],
   "source": []
  }
 ],
 "metadata": {
  "kernelspec": {
   "display_name": ".venv",
   "language": "python",
   "name": "python3"
  },
  "language_info": {
   "codemirror_mode": {
    "name": "ipython",
    "version": 3
   },
   "file_extension": ".py",
   "mimetype": "text/x-python",
   "name": "python",
   "nbconvert_exporter": "python",
   "pygments_lexer": "ipython3",
   "version": "3.11.2"
  },
  "orig_nbformat": 4
 },
 "nbformat": 4,
 "nbformat_minor": 2
}
