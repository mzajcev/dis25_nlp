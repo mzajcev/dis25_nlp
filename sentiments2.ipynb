{
 "cells": [
  {
   "cell_type": "code",
   "execution_count": 33,
   "metadata": {},
   "outputs": [
    {
     "name": "stderr",
     "output_type": "stream",
     "text": [
      "c:\\Users\\matth\\nlp\\dis25_nlp\\.venv\\Lib\\site-packages\\sklearn\\linear_model\\_logistic.py:460: ConvergenceWarning: lbfgs failed to converge (status=1):\n",
      "STOP: TOTAL NO. of ITERATIONS REACHED LIMIT.\n",
      "\n",
      "Increase the number of iterations (max_iter) or scale the data as shown in:\n",
      "    https://scikit-learn.org/stable/modules/preprocessing.html\n",
      "Please also refer to the documentation for alternative solver options:\n",
      "    https://scikit-learn.org/stable/modules/linear_model.html#logistic-regression\n",
      "  n_iter_i = _check_optimize_result(\n"
     ]
    }
   ],
   "source": [
    "# Import the necessary libraries\n",
    "import tensorflow_datasets as tfds\n",
    "from sklearn.feature_extraction.text import CountVectorizer\n",
    "from sklearn.linear_model import LogisticRegression\n",
    "from sklearn.metrics import classification_report\n",
    "import pandas as pd\n",
    "\n",
    "# Load the dataset\n",
    "data = tfds.load('imdb_reviews')\n",
    "train_data, test_data = data['train'], data['test']\n",
    "\n",
    "# Convert the data into pandas DataFrame\n",
    "train_df = tfds.as_dataframe(train_data)\n",
    "test_df = tfds.as_dataframe(test_data)\n",
    "\n",
    "# Preprocess the data\n",
    "vectorizer = CountVectorizer()\n",
    "X_train = vectorizer.fit_transform(train_df['text'])\n",
    "X_test = vectorizer.transform(test_df['text'])\n",
    "\n",
    "y_train = train_df['label']\n",
    "y_test = test_df['label']\n",
    "\n",
    "# Create a classifier\n",
    "clf = LogisticRegression(max_iter=700)\n",
    "\n",
    "# Train the classifier\n",
    "clf.fit(X_train, y_train)\n",
    "\n",
    "# Suppose you have 50 new samples for testing, which are stored in a CSV file \"test_samples.csv\"\n",
    "# We'll read the file into a DataFrame and preprocess it in the same way as the training data\n",
    "\n",
    "with open('test_data.csv', 'r') as f:\n",
    "    test_data = f.readlines()\n",
    "\n",
    "test_data = [test_data.strip('\\n') for test_data in test_data]\n",
    "test_samples_df = pd.DataFrame(test_data, columns = ['text'])\n",
    "\n",
    "X_test_samples = vectorizer.transform(test_samples_df['text'])\n",
    "\n",
    "# Use the trained classifier to make predictions on your test samples\n",
    "predictions = clf.predict(X_test_samples)\n",
    "\n",
    "\n"
   ]
  },
  {
   "cell_type": "code",
   "execution_count": 34,
   "metadata": {},
   "outputs": [
    {
     "name": "stdout",
     "output_type": "stream",
     "text": [
      "[0 1 1 0 1 0 1 1 0 1 0 1 1 0 1 1 1 0 0 0 1 1 0 1 1 1 0 0 0 1 1 1 0 0 1 1 0\n",
      " 0 1 1 0 0 1 1 1 0 1 0 1 1]\n"
     ]
    }
   ],
   "source": [
    "print(predictions)"
   ]
  },
  {
   "cell_type": "code",
   "execution_count": 35,
   "metadata": {},
   "outputs": [
    {
     "name": "stdout",
     "output_type": "stream",
     "text": [
      "              precision    recall  f1-score   support\n",
      "\n",
      "           0       0.62      0.43      0.51        30\n",
      "           1       0.41      0.60      0.49        20\n",
      "\n",
      "    accuracy                           0.50        50\n",
      "   macro avg       0.52      0.52      0.50        50\n",
      "weighted avg       0.54      0.50      0.50        50\n",
      "\n"
     ]
    }
   ],
   "source": [
    "print(classification_report(y_train[:50], predictions))"
   ]
  },
  {
   "cell_type": "code",
   "execution_count": null,
   "metadata": {},
   "outputs": [],
   "source": []
  }
 ],
 "metadata": {
  "kernelspec": {
   "display_name": ".venv",
   "language": "python",
   "name": "python3"
  },
  "language_info": {
   "codemirror_mode": {
    "name": "ipython",
    "version": 3
   },
   "file_extension": ".py",
   "mimetype": "text/x-python",
   "name": "python",
   "nbconvert_exporter": "python",
   "pygments_lexer": "ipython3",
   "version": "3.11.2"
  },
  "orig_nbformat": 4
 },
 "nbformat": 4,
 "nbformat_minor": 2
}
