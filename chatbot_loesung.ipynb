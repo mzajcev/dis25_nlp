{
 "cells": [
  {
   "cell_type": "code",
   "execution_count": 1,
   "metadata": {},
   "outputs": [],
   "source": [
    "import re"
   ]
  },
  {
   "cell_type": "code",
   "execution_count": 2,
   "metadata": {},
   "outputs": [],
   "source": [
    "def generate_response(user_input, whole_input):\n",
    "    patterns = {\n",
    "        r'test\\s(.*)': \"{}\".format(user_input),\n",
    "        r'logstic$': \"{}\".format(whole_input),\n",
    "        r'naive$': \"{}\".format(whole_input)\n",
    "    }\n",
    "\n",
    "    for pattern, response in patterns.items():\n",
    "        match = re.match(pattern, user_input)\n",
    "        if match:\n",
    "            if pattern == r'logstic$' or pattern == r'naive$':\n",
    "                return None\n",
    "            else:\n",
    "                return response\n",
    "    return \"I'm sorry, but I'm not sure I understand.\""
   ]
  },
  {
   "cell_type": "code",
   "execution_count": 3,
   "metadata": {},
   "outputs": [
    {
     "name": "stdout",
     "output_type": "stream",
     "text": [
      "Hi\n",
      "Mr. C-Bot: test hallo Matthias \n",
      "hallo Matthias \n",
      "hallo Matthias \n",
      "hallo Matthias \n",
      "hallo Matthias \n",
      "hallo Matthias \n",
      "hallo Matthias \n"
     ]
    }
   ],
   "source": [
    "def chat():\n",
    "    print(\"Hi\")\n",
    "    whole_input = \"\"\n",
    "\n",
    "    while True:\n",
    "        user_input = input(\"You: \")\n",
    "\n",
    "        response = generate_response(user_input, whole_input)\n",
    "        if response is not None:\n",
    "            print(\"Mr. C-Bot:\", response)\n",
    "\n",
    "        match_test = re.match(r'test\\s(.*)', user_input)\n",
    "        if match_test:\n",
    "            whole_input = match_test.group(1)\n",
    "\n",
    "        if user_input.lower() == 'logstic':\n",
    "            print(whole_input)\n",
    "\n",
    "        if user_input.lower() == 'naive':\n",
    "            print(whole_input)\n",
    "\n",
    "# Example usage\n",
    "chat()\n"
   ]
  }
 ],
 "metadata": {
  "kernelspec": {
   "display_name": ".venv",
   "language": "python",
   "name": "python3"
  },
  "language_info": {
   "codemirror_mode": {
    "name": "ipython",
    "version": 3
   },
   "file_extension": ".py",
   "mimetype": "text/x-python",
   "name": "python",
   "nbconvert_exporter": "python",
   "pygments_lexer": "ipython3",
   "version": "3.11.4"
  },
  "orig_nbformat": 4
 },
 "nbformat": 4,
 "nbformat_minor": 2
}
