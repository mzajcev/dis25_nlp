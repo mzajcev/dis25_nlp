{
  "cells": [
    {
      "cell_type": "markdown",
      "metadata": {
        "id": "VWzkm6ZqwKun"
      },
      "source": [
        "# Tutorial 2: Edit Distance, Sentiment Analysis\n",
        "First, we need to import required modules:"
      ]
    },
    {
      "cell_type": "code",
      "execution_count": 66,
      "metadata": {
        "id": "Iq_cANHEx1nZ"
      },
      "outputs": [],
      "source": [
        "import pandas as pd\n",
        "import nltk\n",
        "from tqdm import tqdm"
      ]
    },
    {
      "cell_type": "markdown",
      "metadata": {
        "id": "KIe-5Ixlxxet"
      },
      "source": [
        "## Load IMDB Dataset\n",
        "Next, we load our dataset like in the first tutorial:\n"
      ]
    },
    {
      "cell_type": "code",
      "execution_count": 67,
      "metadata": {
        "id": "7jpgX_k7wWli"
      },
      "outputs": [],
      "source": [
        "import tensorflow_datasets as tfds\n",
        "imbd_dataset = tfds.load('imdb_reviews')"
      ]
    },
    {
      "cell_type": "markdown",
      "metadata": {
        "id": "0QeRzWpixkRL"
      },
      "source": [
        "Get the train subset texts:"
      ]
    },
    {
      "cell_type": "code",
      "execution_count": 68,
      "metadata": {
        "id": "9bAi6ieYwZH_"
      },
      "outputs": [],
      "source": [
        "imdb_texts = [ a[\"text\"].numpy().decode(\"utf-8\") for a in imbd_dataset[\"train\"] ]"
      ]
    },
    {
      "cell_type": "code",
      "execution_count": 69,
      "metadata": {
        "id": "hWLic-vjxqXg"
      },
      "outputs": [],
      "source": [
        "imdb_labels = [ a[\"label\"].numpy() for a in imbd_dataset[\"train\"] ]"
      ]
    },
    {
      "cell_type": "code",
      "execution_count": 70,
      "metadata": {
        "id": "TFLyPra1xtrw"
      },
      "outputs": [],
      "source": [
        "df_imdb = pd.DataFrame({\"texts\": imdb_texts, \"labels\": imdb_labels})"
      ]
    },
    {
      "cell_type": "code",
      "execution_count": 71,
      "metadata": {
        "colab": {
          "base_uri": "https://localhost:8080/",
          "height": 423
        },
        "id": "2LrcDOy9xveo",
        "outputId": "24bb88d5-15c0-4393-8d05-eaeb4cd62f71"
      },
      "outputs": [
        {
          "output_type": "execute_result",
          "data": {
            "text/plain": [
              "                                                   texts  labels\n",
              "0      This was an absolutely terrible movie. Don't b...       0\n",
              "1      I have been known to fall asleep during films,...       0\n",
              "2      Mann photographs the Alberta Rocky Mountains i...       0\n",
              "3      This is the kind of film for a snowy Sunday af...       1\n",
              "4      As others have mentioned, all the women that g...       1\n",
              "...                                                  ...     ...\n",
              "24995  I have a severe problem with this show, severa...       0\n",
              "24996  The year is 1964. Ernesto \"Che\" Guevara, havin...       1\n",
              "24997  Okay. So I just got back. Before I start my re...       0\n",
              "24998  When I saw this trailer on TV I was surprised....       0\n",
              "24999  First of all, Riget is wonderful. Good comedy ...       1\n",
              "\n",
              "[25000 rows x 2 columns]"
            ],
            "text/html": [
              "\n",
              "\n",
              "  <div id=\"df-dedc5fb8-17a6-41e1-b691-37364864613f\">\n",
              "    <div class=\"colab-df-container\">\n",
              "      <div>\n",
              "<style scoped>\n",
              "    .dataframe tbody tr th:only-of-type {\n",
              "        vertical-align: middle;\n",
              "    }\n",
              "\n",
              "    .dataframe tbody tr th {\n",
              "        vertical-align: top;\n",
              "    }\n",
              "\n",
              "    .dataframe thead th {\n",
              "        text-align: right;\n",
              "    }\n",
              "</style>\n",
              "<table border=\"1\" class=\"dataframe\">\n",
              "  <thead>\n",
              "    <tr style=\"text-align: right;\">\n",
              "      <th></th>\n",
              "      <th>texts</th>\n",
              "      <th>labels</th>\n",
              "    </tr>\n",
              "  </thead>\n",
              "  <tbody>\n",
              "    <tr>\n",
              "      <th>0</th>\n",
              "      <td>This was an absolutely terrible movie. Don't b...</td>\n",
              "      <td>0</td>\n",
              "    </tr>\n",
              "    <tr>\n",
              "      <th>1</th>\n",
              "      <td>I have been known to fall asleep during films,...</td>\n",
              "      <td>0</td>\n",
              "    </tr>\n",
              "    <tr>\n",
              "      <th>2</th>\n",
              "      <td>Mann photographs the Alberta Rocky Mountains i...</td>\n",
              "      <td>0</td>\n",
              "    </tr>\n",
              "    <tr>\n",
              "      <th>3</th>\n",
              "      <td>This is the kind of film for a snowy Sunday af...</td>\n",
              "      <td>1</td>\n",
              "    </tr>\n",
              "    <tr>\n",
              "      <th>4</th>\n",
              "      <td>As others have mentioned, all the women that g...</td>\n",
              "      <td>1</td>\n",
              "    </tr>\n",
              "    <tr>\n",
              "      <th>...</th>\n",
              "      <td>...</td>\n",
              "      <td>...</td>\n",
              "    </tr>\n",
              "    <tr>\n",
              "      <th>24995</th>\n",
              "      <td>I have a severe problem with this show, severa...</td>\n",
              "      <td>0</td>\n",
              "    </tr>\n",
              "    <tr>\n",
              "      <th>24996</th>\n",
              "      <td>The year is 1964. Ernesto \"Che\" Guevara, havin...</td>\n",
              "      <td>1</td>\n",
              "    </tr>\n",
              "    <tr>\n",
              "      <th>24997</th>\n",
              "      <td>Okay. So I just got back. Before I start my re...</td>\n",
              "      <td>0</td>\n",
              "    </tr>\n",
              "    <tr>\n",
              "      <th>24998</th>\n",
              "      <td>When I saw this trailer on TV I was surprised....</td>\n",
              "      <td>0</td>\n",
              "    </tr>\n",
              "    <tr>\n",
              "      <th>24999</th>\n",
              "      <td>First of all, Riget is wonderful. Good comedy ...</td>\n",
              "      <td>1</td>\n",
              "    </tr>\n",
              "  </tbody>\n",
              "</table>\n",
              "<p>25000 rows × 2 columns</p>\n",
              "</div>\n",
              "      <button class=\"colab-df-convert\" onclick=\"convertToInteractive('df-dedc5fb8-17a6-41e1-b691-37364864613f')\"\n",
              "              title=\"Convert this dataframe to an interactive table.\"\n",
              "              style=\"display:none;\">\n",
              "\n",
              "  <svg xmlns=\"http://www.w3.org/2000/svg\" height=\"24px\"viewBox=\"0 0 24 24\"\n",
              "       width=\"24px\">\n",
              "    <path d=\"M0 0h24v24H0V0z\" fill=\"none\"/>\n",
              "    <path d=\"M18.56 5.44l.94 2.06.94-2.06 2.06-.94-2.06-.94-.94-2.06-.94 2.06-2.06.94zm-11 1L8.5 8.5l.94-2.06 2.06-.94-2.06-.94L8.5 2.5l-.94 2.06-2.06.94zm10 10l.94 2.06.94-2.06 2.06-.94-2.06-.94-.94-2.06-.94 2.06-2.06.94z\"/><path d=\"M17.41 7.96l-1.37-1.37c-.4-.4-.92-.59-1.43-.59-.52 0-1.04.2-1.43.59L10.3 9.45l-7.72 7.72c-.78.78-.78 2.05 0 2.83L4 21.41c.39.39.9.59 1.41.59.51 0 1.02-.2 1.41-.59l7.78-7.78 2.81-2.81c.8-.78.8-2.07 0-2.86zM5.41 20L4 18.59l7.72-7.72 1.47 1.35L5.41 20z\"/>\n",
              "  </svg>\n",
              "      </button>\n",
              "\n",
              "\n",
              "\n",
              "    <div id=\"df-dc2cbc6d-64f5-483b-98eb-b6e3b4336120\">\n",
              "      <button class=\"colab-df-quickchart\" onclick=\"quickchart('df-dc2cbc6d-64f5-483b-98eb-b6e3b4336120')\"\n",
              "              title=\"Suggest charts.\"\n",
              "              style=\"display:none;\">\n",
              "\n",
              "<svg xmlns=\"http://www.w3.org/2000/svg\" height=\"24px\"viewBox=\"0 0 24 24\"\n",
              "     width=\"24px\">\n",
              "    <g>\n",
              "        <path d=\"M19 3H5c-1.1 0-2 .9-2 2v14c0 1.1.9 2 2 2h14c1.1 0 2-.9 2-2V5c0-1.1-.9-2-2-2zM9 17H7v-7h2v7zm4 0h-2V7h2v10zm4 0h-2v-4h2v4z\"/>\n",
              "    </g>\n",
              "</svg>\n",
              "      </button>\n",
              "    </div>\n",
              "\n",
              "<style>\n",
              "  .colab-df-quickchart {\n",
              "    background-color: #E8F0FE;\n",
              "    border: none;\n",
              "    border-radius: 50%;\n",
              "    cursor: pointer;\n",
              "    display: none;\n",
              "    fill: #1967D2;\n",
              "    height: 32px;\n",
              "    padding: 0 0 0 0;\n",
              "    width: 32px;\n",
              "  }\n",
              "\n",
              "  .colab-df-quickchart:hover {\n",
              "    background-color: #E2EBFA;\n",
              "    box-shadow: 0px 1px 2px rgba(60, 64, 67, 0.3), 0px 1px 3px 1px rgba(60, 64, 67, 0.15);\n",
              "    fill: #174EA6;\n",
              "  }\n",
              "\n",
              "  [theme=dark] .colab-df-quickchart {\n",
              "    background-color: #3B4455;\n",
              "    fill: #D2E3FC;\n",
              "  }\n",
              "\n",
              "  [theme=dark] .colab-df-quickchart:hover {\n",
              "    background-color: #434B5C;\n",
              "    box-shadow: 0px 1px 3px 1px rgba(0, 0, 0, 0.15);\n",
              "    filter: drop-shadow(0px 1px 2px rgba(0, 0, 0, 0.3));\n",
              "    fill: #FFFFFF;\n",
              "  }\n",
              "</style>\n",
              "\n",
              "    <script>\n",
              "      async function quickchart(key) {\n",
              "        const containerElement = document.querySelector('#' + key);\n",
              "        const charts = await google.colab.kernel.invokeFunction(\n",
              "            'suggestCharts', [key], {});\n",
              "      }\n",
              "    </script>\n",
              "\n",
              "      <script>\n",
              "\n",
              "function displayQuickchartButton(domScope) {\n",
              "  let quickchartButtonEl =\n",
              "    domScope.querySelector('#df-dc2cbc6d-64f5-483b-98eb-b6e3b4336120 button.colab-df-quickchart');\n",
              "  quickchartButtonEl.style.display =\n",
              "    google.colab.kernel.accessAllowed ? 'block' : 'none';\n",
              "}\n",
              "\n",
              "        displayQuickchartButton(document);\n",
              "      </script>\n",
              "      <style>\n",
              "    .colab-df-container {\n",
              "      display:flex;\n",
              "      flex-wrap:wrap;\n",
              "      gap: 12px;\n",
              "    }\n",
              "\n",
              "    .colab-df-convert {\n",
              "      background-color: #E8F0FE;\n",
              "      border: none;\n",
              "      border-radius: 50%;\n",
              "      cursor: pointer;\n",
              "      display: none;\n",
              "      fill: #1967D2;\n",
              "      height: 32px;\n",
              "      padding: 0 0 0 0;\n",
              "      width: 32px;\n",
              "    }\n",
              "\n",
              "    .colab-df-convert:hover {\n",
              "      background-color: #E2EBFA;\n",
              "      box-shadow: 0px 1px 2px rgba(60, 64, 67, 0.3), 0px 1px 3px 1px rgba(60, 64, 67, 0.15);\n",
              "      fill: #174EA6;\n",
              "    }\n",
              "\n",
              "    [theme=dark] .colab-df-convert {\n",
              "      background-color: #3B4455;\n",
              "      fill: #D2E3FC;\n",
              "    }\n",
              "\n",
              "    [theme=dark] .colab-df-convert:hover {\n",
              "      background-color: #434B5C;\n",
              "      box-shadow: 0px 1px 3px 1px rgba(0, 0, 0, 0.15);\n",
              "      filter: drop-shadow(0px 1px 2px rgba(0, 0, 0, 0.3));\n",
              "      fill: #FFFFFF;\n",
              "    }\n",
              "  </style>\n",
              "\n",
              "      <script>\n",
              "        const buttonEl =\n",
              "          document.querySelector('#df-dedc5fb8-17a6-41e1-b691-37364864613f button.colab-df-convert');\n",
              "        buttonEl.style.display =\n",
              "          google.colab.kernel.accessAllowed ? 'block' : 'none';\n",
              "\n",
              "        async function convertToInteractive(key) {\n",
              "          const element = document.querySelector('#df-dedc5fb8-17a6-41e1-b691-37364864613f');\n",
              "          const dataTable =\n",
              "            await google.colab.kernel.invokeFunction('convertToInteractive',\n",
              "                                                     [key], {});\n",
              "          if (!dataTable) return;\n",
              "\n",
              "          const docLinkHtml = 'Like what you see? Visit the ' +\n",
              "            '<a target=\"_blank\" href=https://colab.research.google.com/notebooks/data_table.ipynb>data table notebook</a>'\n",
              "            + ' to learn more about interactive tables.';\n",
              "          element.innerHTML = '';\n",
              "          dataTable['output_type'] = 'display_data';\n",
              "          await google.colab.output.renderOutput(dataTable, element);\n",
              "          const docLink = document.createElement('div');\n",
              "          docLink.innerHTML = docLinkHtml;\n",
              "          element.appendChild(docLink);\n",
              "        }\n",
              "      </script>\n",
              "    </div>\n",
              "  </div>\n"
            ]
          },
          "metadata": {},
          "execution_count": 71
        }
      ],
      "source": [
        "df_imdb"
      ]
    },
    {
      "cell_type": "markdown",
      "metadata": {
        "id": "v2rFXgDIFbwJ"
      },
      "source": [
        "### Tokenization\n",
        "We also use the Tokenization techniques from the last tutorial:"
      ]
    },
    {
      "cell_type": "code",
      "execution_count": 72,
      "metadata": {
        "colab": {
          "base_uri": "https://localhost:8080/"
        },
        "id": "-N3O1f-MFffC",
        "outputId": "9670a1ff-eac4-4fbb-df81-62da02571be5"
      },
      "outputs": [
        {
          "output_type": "stream",
          "name": "stderr",
          "text": [
            "[nltk_data] Downloading package punkt to /root/nltk_data...\n",
            "[nltk_data]   Package punkt is already up-to-date!\n",
            "[nltk_data] Downloading package words to /root/nltk_data...\n",
            "[nltk_data]   Package words is already up-to-date!\n"
          ]
        }
      ],
      "source": [
        "from nltk.tokenize import sent_tokenize, word_tokenize\n",
        "nltk.download('punkt')\n",
        "nltk.download(\"words\")\n",
        "\n",
        "\n",
        "# for texts with emojis etc.:\n",
        "from nltk.tokenize import TweetTokenizer\n",
        "tknzr = TweetTokenizer()\n",
        "def tweet_tokenize(text):\n",
        "  return tknzr.tokenize(text)"
      ]
    },
    {
      "cell_type": "code",
      "execution_count": 73,
      "metadata": {
        "colab": {
          "base_uri": "https://localhost:8080/"
        },
        "id": "_AFMYYDevGxB",
        "outputId": "cc6032f3-b817-4f9d-a495-ae61d9168eac"
      },
      "outputs": [
        {
          "output_type": "execute_result",
          "data": {
            "text/plain": [
              "['Ein', 'coole', 'Vorlesung', ':-)', '!']"
            ]
          },
          "metadata": {},
          "execution_count": 73
        }
      ],
      "source": [
        "tweet_tokenize(\"Ein coole Vorlesung :-)!\")"
      ]
    },
    {
      "cell_type": "code",
      "execution_count": 74,
      "metadata": {
        "id": "CmHuS1rtHV4B"
      },
      "outputs": [],
      "source": [
        "from nltk.tokenize import RegexpTokenizer\n",
        "tokenizer = RegexpTokenizer(r'[A-Za-z0-9`´\\'\\\\*]+')"
      ]
    },
    {
      "cell_type": "code",
      "execution_count": 75,
      "metadata": {
        "id": "cKkLy10sFfcU"
      },
      "outputs": [],
      "source": [
        "imdb_tokens_sent_tok = [sent_tokenize(text) for text in imdb_texts]\n",
        "imdb_tokens_word_tok = [word_tokenize(text) for text in imdb_texts]\n",
        "imdb_tweet_tokens = [tweet_tokenize(text) for text in imdb_texts]\n",
        "imdb_tokens = [tokenizer.tokenize(text) for text in imdb_texts]\n",
        "df_imdb[\"tokenized_sent-tokenizer\"] = imdb_tokens_sent_tok\n",
        "df_imdb[\"tokenized_word-tokenizer\"] = imdb_tokens_word_tok\n",
        "df_imdb[\"tokenized_tweet\"] = imdb_tweet_tokens\n",
        "df_imdb[\"tokenized\"] = imdb_tokens"
      ]
    },
    {
      "cell_type": "code",
      "execution_count": 76,
      "metadata": {
        "colab": {
          "base_uri": "https://localhost:8080/",
          "height": 641
        },
        "id": "Je7bMg7rF8q3",
        "outputId": "d8721e49-b0f0-4e5f-f3e1-ad424ae24509"
      },
      "outputs": [
        {
          "output_type": "execute_result",
          "data": {
            "text/plain": [
              "                                                   texts  labels  \\\n",
              "0      This was an absolutely terrible movie. Don't b...       0   \n",
              "1      I have been known to fall asleep during films,...       0   \n",
              "2      Mann photographs the Alberta Rocky Mountains i...       0   \n",
              "3      This is the kind of film for a snowy Sunday af...       1   \n",
              "4      As others have mentioned, all the women that g...       1   \n",
              "...                                                  ...     ...   \n",
              "24995  I have a severe problem with this show, severa...       0   \n",
              "24996  The year is 1964. Ernesto \"Che\" Guevara, havin...       1   \n",
              "24997  Okay. So I just got back. Before I start my re...       0   \n",
              "24998  When I saw this trailer on TV I was surprised....       0   \n",
              "24999  First of all, Riget is wonderful. Good comedy ...       1   \n",
              "\n",
              "                                tokenized_sent-tokenizer  \\\n",
              "0      [This was an absolutely terrible movie., Don't...   \n",
              "1      [I have been known to fall asleep during films...   \n",
              "2      [Mann photographs the Alberta Rocky Mountains ...   \n",
              "3      [This is the kind of film for a snowy Sunday a...   \n",
              "4      [As others have mentioned, all the women that ...   \n",
              "...                                                  ...   \n",
              "24995  [I have a severe problem with this show, sever...   \n",
              "24996  [The year is 1964., Ernesto \"Che\" Guevara, hav...   \n",
              "24997  [Okay., So I just got back., Before I start my...   \n",
              "24998  [When I saw this trailer on TV I was surprised...   \n",
              "24999  [First of all, Riget is wonderful., Good comed...   \n",
              "\n",
              "                                tokenized_word-tokenizer  \\\n",
              "0      [This, was, an, absolutely, terrible, movie, ....   \n",
              "1      [I, have, been, known, to, fall, asleep, durin...   \n",
              "2      [Mann, photographs, the, Alberta, Rocky, Mount...   \n",
              "3      [This, is, the, kind, of, film, for, a, snowy,...   \n",
              "4      [As, others, have, mentioned, ,, all, the, wom...   \n",
              "...                                                  ...   \n",
              "24995  [I, have, a, severe, problem, with, this, show...   \n",
              "24996  [The, year, is, 1964, ., Ernesto, ``, Che, '',...   \n",
              "24997  [Okay, ., So, I, just, got, back, ., Before, I...   \n",
              "24998  [When, I, saw, this, trailer, on, TV, I, was, ...   \n",
              "24999  [First, of, all, ,, Riget, is, wonderful, ., G...   \n",
              "\n",
              "                                         tokenized_tweet  \\\n",
              "0      [This, was, an, absolutely, terrible, movie, ....   \n",
              "1      [I, have, been, known, to, fall, asleep, durin...   \n",
              "2      [Mann, photographs, the, Alberta, Rocky, Mount...   \n",
              "3      [This, is, the, kind, of, film, for, a, snowy,...   \n",
              "4      [As, others, have, mentioned, ,, all, the, wom...   \n",
              "...                                                  ...   \n",
              "24995  [I, have, a, severe, problem, with, this, show...   \n",
              "24996  [The, year, is, 1964, ., Ernesto, \", Che, \", G...   \n",
              "24997  [Okay, ., So, I, just, got, back, ., Before, I...   \n",
              "24998  [When, I, saw, this, trailer, on, TV, I, was, ...   \n",
              "24999  [First, of, all, ,, Riget, is, wonderful, ., G...   \n",
              "\n",
              "                                               tokenized  \n",
              "0      [This, was, an, absolutely, terrible, movie, D...  \n",
              "1      [I, have, been, known, to, fall, asleep, durin...  \n",
              "2      [Mann, photographs, the, Alberta, Rocky, Mount...  \n",
              "3      [This, is, the, kind, of, film, for, a, snowy,...  \n",
              "4      [As, others, have, mentioned, all, the, women,...  \n",
              "...                                                  ...  \n",
              "24995  [I, have, a, severe, problem, with, this, show...  \n",
              "24996  [The, year, is, 1964, Ernesto, Che, Guevara, h...  \n",
              "24997  [Okay, So, I, just, got, back, Before, I, star...  \n",
              "24998  [When, I, saw, this, trailer, on, TV, I, was, ...  \n",
              "24999  [First, of, all, Riget, is, wonderful, Good, c...  \n",
              "\n",
              "[25000 rows x 6 columns]"
            ],
            "text/html": [
              "\n",
              "\n",
              "  <div id=\"df-00a6120f-39f0-4dce-bb56-f0c422f9ca47\">\n",
              "    <div class=\"colab-df-container\">\n",
              "      <div>\n",
              "<style scoped>\n",
              "    .dataframe tbody tr th:only-of-type {\n",
              "        vertical-align: middle;\n",
              "    }\n",
              "\n",
              "    .dataframe tbody tr th {\n",
              "        vertical-align: top;\n",
              "    }\n",
              "\n",
              "    .dataframe thead th {\n",
              "        text-align: right;\n",
              "    }\n",
              "</style>\n",
              "<table border=\"1\" class=\"dataframe\">\n",
              "  <thead>\n",
              "    <tr style=\"text-align: right;\">\n",
              "      <th></th>\n",
              "      <th>texts</th>\n",
              "      <th>labels</th>\n",
              "      <th>tokenized_sent-tokenizer</th>\n",
              "      <th>tokenized_word-tokenizer</th>\n",
              "      <th>tokenized_tweet</th>\n",
              "      <th>tokenized</th>\n",
              "    </tr>\n",
              "  </thead>\n",
              "  <tbody>\n",
              "    <tr>\n",
              "      <th>0</th>\n",
              "      <td>This was an absolutely terrible movie. Don't b...</td>\n",
              "      <td>0</td>\n",
              "      <td>[This was an absolutely terrible movie., Don't...</td>\n",
              "      <td>[This, was, an, absolutely, terrible, movie, ....</td>\n",
              "      <td>[This, was, an, absolutely, terrible, movie, ....</td>\n",
              "      <td>[This, was, an, absolutely, terrible, movie, D...</td>\n",
              "    </tr>\n",
              "    <tr>\n",
              "      <th>1</th>\n",
              "      <td>I have been known to fall asleep during films,...</td>\n",
              "      <td>0</td>\n",
              "      <td>[I have been known to fall asleep during films...</td>\n",
              "      <td>[I, have, been, known, to, fall, asleep, durin...</td>\n",
              "      <td>[I, have, been, known, to, fall, asleep, durin...</td>\n",
              "      <td>[I, have, been, known, to, fall, asleep, durin...</td>\n",
              "    </tr>\n",
              "    <tr>\n",
              "      <th>2</th>\n",
              "      <td>Mann photographs the Alberta Rocky Mountains i...</td>\n",
              "      <td>0</td>\n",
              "      <td>[Mann photographs the Alberta Rocky Mountains ...</td>\n",
              "      <td>[Mann, photographs, the, Alberta, Rocky, Mount...</td>\n",
              "      <td>[Mann, photographs, the, Alberta, Rocky, Mount...</td>\n",
              "      <td>[Mann, photographs, the, Alberta, Rocky, Mount...</td>\n",
              "    </tr>\n",
              "    <tr>\n",
              "      <th>3</th>\n",
              "      <td>This is the kind of film for a snowy Sunday af...</td>\n",
              "      <td>1</td>\n",
              "      <td>[This is the kind of film for a snowy Sunday a...</td>\n",
              "      <td>[This, is, the, kind, of, film, for, a, snowy,...</td>\n",
              "      <td>[This, is, the, kind, of, film, for, a, snowy,...</td>\n",
              "      <td>[This, is, the, kind, of, film, for, a, snowy,...</td>\n",
              "    </tr>\n",
              "    <tr>\n",
              "      <th>4</th>\n",
              "      <td>As others have mentioned, all the women that g...</td>\n",
              "      <td>1</td>\n",
              "      <td>[As others have mentioned, all the women that ...</td>\n",
              "      <td>[As, others, have, mentioned, ,, all, the, wom...</td>\n",
              "      <td>[As, others, have, mentioned, ,, all, the, wom...</td>\n",
              "      <td>[As, others, have, mentioned, all, the, women,...</td>\n",
              "    </tr>\n",
              "    <tr>\n",
              "      <th>...</th>\n",
              "      <td>...</td>\n",
              "      <td>...</td>\n",
              "      <td>...</td>\n",
              "      <td>...</td>\n",
              "      <td>...</td>\n",
              "      <td>...</td>\n",
              "    </tr>\n",
              "    <tr>\n",
              "      <th>24995</th>\n",
              "      <td>I have a severe problem with this show, severa...</td>\n",
              "      <td>0</td>\n",
              "      <td>[I have a severe problem with this show, sever...</td>\n",
              "      <td>[I, have, a, severe, problem, with, this, show...</td>\n",
              "      <td>[I, have, a, severe, problem, with, this, show...</td>\n",
              "      <td>[I, have, a, severe, problem, with, this, show...</td>\n",
              "    </tr>\n",
              "    <tr>\n",
              "      <th>24996</th>\n",
              "      <td>The year is 1964. Ernesto \"Che\" Guevara, havin...</td>\n",
              "      <td>1</td>\n",
              "      <td>[The year is 1964., Ernesto \"Che\" Guevara, hav...</td>\n",
              "      <td>[The, year, is, 1964, ., Ernesto, ``, Che, '',...</td>\n",
              "      <td>[The, year, is, 1964, ., Ernesto, \", Che, \", G...</td>\n",
              "      <td>[The, year, is, 1964, Ernesto, Che, Guevara, h...</td>\n",
              "    </tr>\n",
              "    <tr>\n",
              "      <th>24997</th>\n",
              "      <td>Okay. So I just got back. Before I start my re...</td>\n",
              "      <td>0</td>\n",
              "      <td>[Okay., So I just got back., Before I start my...</td>\n",
              "      <td>[Okay, ., So, I, just, got, back, ., Before, I...</td>\n",
              "      <td>[Okay, ., So, I, just, got, back, ., Before, I...</td>\n",
              "      <td>[Okay, So, I, just, got, back, Before, I, star...</td>\n",
              "    </tr>\n",
              "    <tr>\n",
              "      <th>24998</th>\n",
              "      <td>When I saw this trailer on TV I was surprised....</td>\n",
              "      <td>0</td>\n",
              "      <td>[When I saw this trailer on TV I was surprised...</td>\n",
              "      <td>[When, I, saw, this, trailer, on, TV, I, was, ...</td>\n",
              "      <td>[When, I, saw, this, trailer, on, TV, I, was, ...</td>\n",
              "      <td>[When, I, saw, this, trailer, on, TV, I, was, ...</td>\n",
              "    </tr>\n",
              "    <tr>\n",
              "      <th>24999</th>\n",
              "      <td>First of all, Riget is wonderful. Good comedy ...</td>\n",
              "      <td>1</td>\n",
              "      <td>[First of all, Riget is wonderful., Good comed...</td>\n",
              "      <td>[First, of, all, ,, Riget, is, wonderful, ., G...</td>\n",
              "      <td>[First, of, all, ,, Riget, is, wonderful, ., G...</td>\n",
              "      <td>[First, of, all, Riget, is, wonderful, Good, c...</td>\n",
              "    </tr>\n",
              "  </tbody>\n",
              "</table>\n",
              "<p>25000 rows × 6 columns</p>\n",
              "</div>\n",
              "      <button class=\"colab-df-convert\" onclick=\"convertToInteractive('df-00a6120f-39f0-4dce-bb56-f0c422f9ca47')\"\n",
              "              title=\"Convert this dataframe to an interactive table.\"\n",
              "              style=\"display:none;\">\n",
              "\n",
              "  <svg xmlns=\"http://www.w3.org/2000/svg\" height=\"24px\"viewBox=\"0 0 24 24\"\n",
              "       width=\"24px\">\n",
              "    <path d=\"M0 0h24v24H0V0z\" fill=\"none\"/>\n",
              "    <path d=\"M18.56 5.44l.94 2.06.94-2.06 2.06-.94-2.06-.94-.94-2.06-.94 2.06-2.06.94zm-11 1L8.5 8.5l.94-2.06 2.06-.94-2.06-.94L8.5 2.5l-.94 2.06-2.06.94zm10 10l.94 2.06.94-2.06 2.06-.94-2.06-.94-.94-2.06-.94 2.06-2.06.94z\"/><path d=\"M17.41 7.96l-1.37-1.37c-.4-.4-.92-.59-1.43-.59-.52 0-1.04.2-1.43.59L10.3 9.45l-7.72 7.72c-.78.78-.78 2.05 0 2.83L4 21.41c.39.39.9.59 1.41.59.51 0 1.02-.2 1.41-.59l7.78-7.78 2.81-2.81c.8-.78.8-2.07 0-2.86zM5.41 20L4 18.59l7.72-7.72 1.47 1.35L5.41 20z\"/>\n",
              "  </svg>\n",
              "      </button>\n",
              "\n",
              "\n",
              "\n",
              "    <div id=\"df-8e241ce3-6847-407c-9cd5-7a9ea88792c9\">\n",
              "      <button class=\"colab-df-quickchart\" onclick=\"quickchart('df-8e241ce3-6847-407c-9cd5-7a9ea88792c9')\"\n",
              "              title=\"Suggest charts.\"\n",
              "              style=\"display:none;\">\n",
              "\n",
              "<svg xmlns=\"http://www.w3.org/2000/svg\" height=\"24px\"viewBox=\"0 0 24 24\"\n",
              "     width=\"24px\">\n",
              "    <g>\n",
              "        <path d=\"M19 3H5c-1.1 0-2 .9-2 2v14c0 1.1.9 2 2 2h14c1.1 0 2-.9 2-2V5c0-1.1-.9-2-2-2zM9 17H7v-7h2v7zm4 0h-2V7h2v10zm4 0h-2v-4h2v4z\"/>\n",
              "    </g>\n",
              "</svg>\n",
              "      </button>\n",
              "    </div>\n",
              "\n",
              "<style>\n",
              "  .colab-df-quickchart {\n",
              "    background-color: #E8F0FE;\n",
              "    border: none;\n",
              "    border-radius: 50%;\n",
              "    cursor: pointer;\n",
              "    display: none;\n",
              "    fill: #1967D2;\n",
              "    height: 32px;\n",
              "    padding: 0 0 0 0;\n",
              "    width: 32px;\n",
              "  }\n",
              "\n",
              "  .colab-df-quickchart:hover {\n",
              "    background-color: #E2EBFA;\n",
              "    box-shadow: 0px 1px 2px rgba(60, 64, 67, 0.3), 0px 1px 3px 1px rgba(60, 64, 67, 0.15);\n",
              "    fill: #174EA6;\n",
              "  }\n",
              "\n",
              "  [theme=dark] .colab-df-quickchart {\n",
              "    background-color: #3B4455;\n",
              "    fill: #D2E3FC;\n",
              "  }\n",
              "\n",
              "  [theme=dark] .colab-df-quickchart:hover {\n",
              "    background-color: #434B5C;\n",
              "    box-shadow: 0px 1px 3px 1px rgba(0, 0, 0, 0.15);\n",
              "    filter: drop-shadow(0px 1px 2px rgba(0, 0, 0, 0.3));\n",
              "    fill: #FFFFFF;\n",
              "  }\n",
              "</style>\n",
              "\n",
              "    <script>\n",
              "      async function quickchart(key) {\n",
              "        const containerElement = document.querySelector('#' + key);\n",
              "        const charts = await google.colab.kernel.invokeFunction(\n",
              "            'suggestCharts', [key], {});\n",
              "      }\n",
              "    </script>\n",
              "\n",
              "      <script>\n",
              "\n",
              "function displayQuickchartButton(domScope) {\n",
              "  let quickchartButtonEl =\n",
              "    domScope.querySelector('#df-8e241ce3-6847-407c-9cd5-7a9ea88792c9 button.colab-df-quickchart');\n",
              "  quickchartButtonEl.style.display =\n",
              "    google.colab.kernel.accessAllowed ? 'block' : 'none';\n",
              "}\n",
              "\n",
              "        displayQuickchartButton(document);\n",
              "      </script>\n",
              "      <style>\n",
              "    .colab-df-container {\n",
              "      display:flex;\n",
              "      flex-wrap:wrap;\n",
              "      gap: 12px;\n",
              "    }\n",
              "\n",
              "    .colab-df-convert {\n",
              "      background-color: #E8F0FE;\n",
              "      border: none;\n",
              "      border-radius: 50%;\n",
              "      cursor: pointer;\n",
              "      display: none;\n",
              "      fill: #1967D2;\n",
              "      height: 32px;\n",
              "      padding: 0 0 0 0;\n",
              "      width: 32px;\n",
              "    }\n",
              "\n",
              "    .colab-df-convert:hover {\n",
              "      background-color: #E2EBFA;\n",
              "      box-shadow: 0px 1px 2px rgba(60, 64, 67, 0.3), 0px 1px 3px 1px rgba(60, 64, 67, 0.15);\n",
              "      fill: #174EA6;\n",
              "    }\n",
              "\n",
              "    [theme=dark] .colab-df-convert {\n",
              "      background-color: #3B4455;\n",
              "      fill: #D2E3FC;\n",
              "    }\n",
              "\n",
              "    [theme=dark] .colab-df-convert:hover {\n",
              "      background-color: #434B5C;\n",
              "      box-shadow: 0px 1px 3px 1px rgba(0, 0, 0, 0.15);\n",
              "      filter: drop-shadow(0px 1px 2px rgba(0, 0, 0, 0.3));\n",
              "      fill: #FFFFFF;\n",
              "    }\n",
              "  </style>\n",
              "\n",
              "      <script>\n",
              "        const buttonEl =\n",
              "          document.querySelector('#df-00a6120f-39f0-4dce-bb56-f0c422f9ca47 button.colab-df-convert');\n",
              "        buttonEl.style.display =\n",
              "          google.colab.kernel.accessAllowed ? 'block' : 'none';\n",
              "\n",
              "        async function convertToInteractive(key) {\n",
              "          const element = document.querySelector('#df-00a6120f-39f0-4dce-bb56-f0c422f9ca47');\n",
              "          const dataTable =\n",
              "            await google.colab.kernel.invokeFunction('convertToInteractive',\n",
              "                                                     [key], {});\n",
              "          if (!dataTable) return;\n",
              "\n",
              "          const docLinkHtml = 'Like what you see? Visit the ' +\n",
              "            '<a target=\"_blank\" href=https://colab.research.google.com/notebooks/data_table.ipynb>data table notebook</a>'\n",
              "            + ' to learn more about interactive tables.';\n",
              "          element.innerHTML = '';\n",
              "          dataTable['output_type'] = 'display_data';\n",
              "          await google.colab.output.renderOutput(dataTable, element);\n",
              "          const docLink = document.createElement('div');\n",
              "          docLink.innerHTML = docLinkHtml;\n",
              "          element.appendChild(docLink);\n",
              "        }\n",
              "      </script>\n",
              "    </div>\n",
              "  </div>\n"
            ]
          },
          "metadata": {},
          "execution_count": 76
        }
      ],
      "source": [
        "df_imdb"
      ]
    },
    {
      "cell_type": "markdown",
      "metadata": {
        "id": "i1i-L_hHFDMk"
      },
      "source": [
        "## Edit Distance\n",
        "Now we can look at the edit distance, a measure for how similar two words/texts are."
      ]
    },
    {
      "cell_type": "code",
      "execution_count": 77,
      "metadata": {
        "colab": {
          "base_uri": "https://localhost:8080/"
        },
        "id": "YdZVodFHwA4R",
        "outputId": "03c3888c-8720-4a5f-c253-fdeae52bebc2"
      },
      "outputs": [
        {
          "output_type": "stream",
          "name": "stderr",
          "text": [
            "[nltk_data] Downloading package words to /root/nltk_data...\n",
            "[nltk_data]   Package words is already up-to-date!\n"
          ]
        },
        {
          "output_type": "execute_result",
          "data": {
            "text/plain": [
              "True"
            ]
          },
          "metadata": {},
          "execution_count": 77
        }
      ],
      "source": [
        "# a list of english words, we first need to download it:\n",
        "nltk.download(\"words\")"
      ]
    },
    {
      "cell_type": "code",
      "execution_count": 78,
      "metadata": {
        "id": "cDLbfgZjwcZB"
      },
      "outputs": [],
      "source": [
        "from nltk.corpus import words"
      ]
    },
    {
      "cell_type": "code",
      "execution_count": 79,
      "metadata": {
        "colab": {
          "base_uri": "https://localhost:8080/"
        },
        "id": "qS6RAjvkwi_o",
        "outputId": "7734555f-f620-431d-c343-cbf533126f68"
      },
      "outputs": [
        {
          "output_type": "execute_result",
          "data": {
            "text/plain": [
              "236736"
            ]
          },
          "metadata": {},
          "execution_count": 79
        }
      ],
      "source": [
        "len(words.words())"
      ]
    },
    {
      "cell_type": "code",
      "execution_count": 80,
      "metadata": {
        "colab": {
          "base_uri": "https://localhost:8080/"
        },
        "id": "4E52tHIjwkzR",
        "outputId": "78716d37-dfea-4ad8-bb0f-acc708fbeb94"
      },
      "outputs": [
        {
          "output_type": "execute_result",
          "data": {
            "text/plain": [
              "False"
            ]
          },
          "metadata": {},
          "execution_count": 80
        }
      ],
      "source": [
        "\"netral\" in words.words()"
      ]
    },
    {
      "cell_type": "code",
      "execution_count": 81,
      "metadata": {
        "id": "TyqlB6EVw0w_"
      },
      "outputs": [],
      "source": [
        "# lets get some distance metrics, check the documentation for more infos\n",
        "from nltk.metrics import binary_distance, edit_distance"
      ]
    },
    {
      "cell_type": "code",
      "execution_count": 82,
      "metadata": {
        "colab": {
          "base_uri": "https://localhost:8080/"
        },
        "id": "_Gt4eRrYxDZA",
        "outputId": "0e4c0b41-efce-4e56-ba9f-b48fb9ff5430"
      },
      "outputs": [
        {
          "output_type": "execute_result",
          "data": {
            "text/plain": [
              "1.0"
            ]
          },
          "metadata": {},
          "execution_count": 82
        }
      ],
      "source": [
        "binary_distance(\"Hallo\", \"Hello\")"
      ]
    },
    {
      "cell_type": "code",
      "execution_count": 83,
      "metadata": {
        "colab": {
          "base_uri": "https://localhost:8080/"
        },
        "id": "2hCfEDV5xHPo",
        "outputId": "b0d715fe-f4a1-446d-a438-888d982dc300"
      },
      "outputs": [
        {
          "output_type": "execute_result",
          "data": {
            "text/plain": [
              "1.0"
            ]
          },
          "metadata": {},
          "execution_count": 83
        }
      ],
      "source": [
        "binary_distance(\"Hallo\", \"Hola\")"
      ]
    },
    {
      "cell_type": "code",
      "execution_count": 84,
      "metadata": {
        "colab": {
          "base_uri": "https://localhost:8080/"
        },
        "id": "v4DKIPcsxKsJ",
        "outputId": "b0f206ad-fbb6-4d34-d47b-3d7787671503"
      },
      "outputs": [
        {
          "output_type": "execute_result",
          "data": {
            "text/plain": [
              "1"
            ]
          },
          "metadata": {},
          "execution_count": 84
        }
      ],
      "source": [
        "edit_distance(\"Hallo\", \"Hello\")"
      ]
    },
    {
      "cell_type": "code",
      "execution_count": 85,
      "metadata": {
        "colab": {
          "base_uri": "https://localhost:8080/"
        },
        "id": "JO-fF5r-xq7R",
        "outputId": "4de89822-65e7-4014-d2a7-817ab0128519"
      },
      "outputs": [
        {
          "output_type": "execute_result",
          "data": {
            "text/plain": [
              "3"
            ]
          },
          "metadata": {},
          "execution_count": 85
        }
      ],
      "source": [
        "edit_distance(\"Hallo\", \"Hola\")"
      ]
    },
    {
      "cell_type": "code",
      "execution_count": 86,
      "metadata": {
        "colab": {
          "base_uri": "https://localhost:8080/"
        },
        "id": "pSGvJAhVxuVw",
        "outputId": "e0702755-59fd-49b4-f8c7-691562df7544"
      },
      "outputs": [
        {
          "output_type": "execute_result",
          "data": {
            "text/plain": [
              "1"
            ]
          },
          "metadata": {},
          "execution_count": 86
        }
      ],
      "source": [
        "edit_distance(\"Hallo\", \"Halol\", transpositions=True)"
      ]
    },
    {
      "cell_type": "code",
      "execution_count": 87,
      "metadata": {
        "id": "RLdOAZvAx3Yo"
      },
      "outputs": [],
      "source": [
        "satz = \"Hi mum, I am lerning computer scyence!\""
      ]
    },
    {
      "cell_type": "code",
      "execution_count": 88,
      "metadata": {
        "colab": {
          "base_uri": "https://localhost:8080/"
        },
        "id": "R_5PQ0QHyPag",
        "outputId": "1f0c8bcc-7dfe-4c2d-dc93-bee1cacad32b"
      },
      "outputs": [
        {
          "output_type": "execute_result",
          "data": {
            "text/plain": [
              "['Hi', 'mum', ',', 'I', 'am', 'lerning', 'computer', 'scyence', '!']"
            ]
          },
          "metadata": {},
          "execution_count": 88
        }
      ],
      "source": [
        "tweet_tokenize(satz)"
      ]
    },
    {
      "cell_type": "markdown",
      "metadata": {
        "id": "qZM9msEJzZol"
      },
      "source": [
        "## TASK 1:\n",
        "Baue einen Spellchecker: Die Methode nimmt einen String oder List of Tokens und\n",
        "\n",
        "\n",
        "1.   schaut, welche Wörter \"falsch\" sind (nicht in words.words() )\n",
        "2.   welche Wörter aus words.words() haben die geringste edit distance zu den falschen wörtern?\n",
        "\n",
        "BONUS: Wortlänge berücksichtigen!\n",
        "\n"
      ]
    },
    {
      "cell_type": "code",
      "execution_count": 89,
      "metadata": {
        "id": "PMlmyVoV4jqq"
      },
      "outputs": [],
      "source": [
        "from tqdm import tqdm"
      ]
    },
    {
      "cell_type": "code",
      "execution_count": 90,
      "metadata": {
        "colab": {
          "base_uri": "https://localhost:8080/"
        },
        "id": "0ciGGKQqyU5Q",
        "outputId": "bf2698e9-d64b-450d-e836-80a8d7f50124"
      },
      "outputs": [
        {
          "output_type": "stream",
          "name": "stdout",
          "text": [
            "lerning\n"
          ]
        },
        {
          "output_type": "stream",
          "name": "stderr",
          "text": [
            "100%|██████████| 236736/236736 [00:19<00:00, 11962.91it/s]\n"
          ]
        },
        {
          "output_type": "stream",
          "name": "stdout",
          "text": [
            "['leaning', 'learning']\n",
            "scyence\n"
          ]
        },
        {
          "output_type": "stream",
          "name": "stderr",
          "text": [
            "100%|██████████| 236736/236736 [00:21<00:00, 10810.57it/s]"
          ]
        },
        {
          "output_type": "stream",
          "name": "stdout",
          "text": [
            "['science']\n"
          ]
        },
        {
          "output_type": "stream",
          "name": "stderr",
          "text": [
            "\n"
          ]
        }
      ],
      "source": [
        "for word in tweet_tokenize(satz):\n",
        "  if len(word)>1:\n",
        "\n",
        "    w_dict = {}\n",
        "\n",
        "    if word.lower() not in words.words():\n",
        "      print(word)\n",
        "      for w in tqdm(words.words()):\n",
        "        w_dict[w] = edit_distance(w, word)\n",
        "\n",
        "      minval = min(w_dict.values())\n",
        "      res = [k for k, v in w_dict.items() if v == minval]\n",
        "      print(res)\n",
        "\n"
      ]
    },
    {
      "cell_type": "code",
      "execution_count": 91,
      "metadata": {
        "colab": {
          "base_uri": "https://localhost:8080/"
        },
        "id": "GOXenXC04Nzn",
        "outputId": "55ab6920-ff6b-413b-e1da-9b49c2cd4393"
      },
      "outputs": [
        {
          "output_type": "execute_result",
          "data": {
            "text/plain": [
              "False"
            ]
          },
          "metadata": {},
          "execution_count": 91
        }
      ],
      "source": [
        "# some words are not in words...\n",
        "\"processing\" in words.words()"
      ]
    },
    {
      "cell_type": "code",
      "execution_count": 92,
      "metadata": {
        "id": "cb_M_1gp5kUC"
      },
      "outputs": [],
      "source": [
        "# a better spellchecker:\n",
        "def spellchecker(text):\n",
        "  words_by_len = {}\n",
        "  for w in tqdm(words.words()):\n",
        "    a = len(w)\n",
        "    if a in words_by_len.keys():\n",
        "      words_by_len[a].extend([w])\n",
        "    else:\n",
        "      words_by_len[a] = [w]\n",
        "\n",
        "  for w in tokenizer.tokenize(text):\n",
        "    checklist = []\n",
        "    checklist = words_by_len[len(w)]\n",
        "    checklist.extend(words_by_len[len(w)+1])\n",
        "    if len(w)>1:\n",
        "      checklist.extend(words_by_len[len(w)-1])\n",
        "\n",
        "    if not ( w.lower() in checklist):\n",
        "      print(w)\n",
        "      w_dic = {}\n",
        "\n",
        "      for word in tqdm(checklist):\n",
        "        w_dic[word] = edit_distance(w, word)\n",
        "\n",
        "      minval = min(w_dic.values())\n",
        "      res = [k for k, v in w_dic.items() if v==minval]\n",
        "      print(res)"
      ]
    },
    {
      "cell_type": "markdown",
      "metadata": {
        "id": "ineQX8Ju6UkH"
      },
      "source": [
        "# Sentiment Analysis\n",
        "Next, we want to perform some sentiment analysis. We start with VADER, a lexicon-based approach."
      ]
    },
    {
      "cell_type": "code",
      "execution_count": 93,
      "metadata": {
        "colab": {
          "base_uri": "https://localhost:8080/"
        },
        "id": "D9ebP6jf6Sw-",
        "outputId": "aff44278-0907-4f95-9332-4276b90bd382"
      },
      "outputs": [
        {
          "output_type": "stream",
          "name": "stdout",
          "text": [
            "Requirement already satisfied: vaderSentiment in /usr/local/lib/python3.10/dist-packages (3.3.2)\n",
            "Requirement already satisfied: requests in /usr/local/lib/python3.10/dist-packages (from vaderSentiment) (2.27.1)\n",
            "Requirement already satisfied: urllib3<1.27,>=1.21.1 in /usr/local/lib/python3.10/dist-packages (from requests->vaderSentiment) (1.26.16)\n",
            "Requirement already satisfied: certifi>=2017.4.17 in /usr/local/lib/python3.10/dist-packages (from requests->vaderSentiment) (2023.5.7)\n",
            "Requirement already satisfied: charset-normalizer~=2.0.0 in /usr/local/lib/python3.10/dist-packages (from requests->vaderSentiment) (2.0.12)\n",
            "Requirement already satisfied: idna<4,>=2.5 in /usr/local/lib/python3.10/dist-packages (from requests->vaderSentiment) (3.4)\n"
          ]
        }
      ],
      "source": [
        "!pip install vaderSentiment"
      ]
    },
    {
      "cell_type": "code",
      "execution_count": 94,
      "metadata": {
        "id": "ifN_4U1O6zWV"
      },
      "outputs": [],
      "source": [
        "from vaderSentiment.vaderSentiment import SentimentIntensityAnalyzer\n",
        "analyzer = SentimentIntensityAnalyzer()"
      ]
    },
    {
      "cell_type": "code",
      "execution_count": 95,
      "metadata": {
        "colab": {
          "base_uri": "https://localhost:8080/"
        },
        "id": "Ym0vDO2V7XBr",
        "outputId": "96a9993a-4c83-472b-a612-0f4a7592548c"
      },
      "outputs": [
        {
          "output_type": "execute_result",
          "data": {
            "text/plain": [
              "{'neg': 0.0, 'neu': 0.328, 'pos': 0.672, 'compound': 0.6239}"
            ]
          },
          "metadata": {},
          "execution_count": 95
        }
      ],
      "source": [
        "# vader gives three scores, positive, negative, and neutral, that roughly\n",
        "# represent how much of the sentence has the corresponding attribute.\n",
        "# Further, it gives a compound score, that reflect the polarity of a text on a -1 to 1 scale.\n",
        "analyzer.polarity_scores(\"this is amazing!\")"
      ]
    },
    {
      "cell_type": "code",
      "execution_count": 96,
      "metadata": {
        "colab": {
          "base_uri": "https://localhost:8080/"
        },
        "id": "ioitfrns7lwD",
        "outputId": "c03b47be-b64a-40d7-e895-40a75eccabb9"
      },
      "outputs": [
        {
          "output_type": "execute_result",
          "data": {
            "text/plain": [
              "{'neg': 0.041, 'neu': 0.738, 'pos': 0.222, 'compound': 0.9957}"
            ]
          },
          "metadata": {},
          "execution_count": 96
        }
      ],
      "source": [
        "analyzer.polarity_scores(df_imdb[\"texts\"][11])"
      ]
    },
    {
      "cell_type": "code",
      "execution_count": 97,
      "metadata": {
        "colab": {
          "base_uri": "https://localhost:8080/",
          "height": 160
        },
        "id": "VPBkYY308FMK",
        "outputId": "1b1516bc-a948-40b6-d22f-52078704417c"
      },
      "outputs": [
        {
          "output_type": "execute_result",
          "data": {
            "text/plain": [
              "'Cute film about three lively sisters from Switzerland (often seen running about in matching outfits) who want to get their parents back together (seems mom is still carrying the torch for dad) - so they sail off to New York to stop the dad from marrying a blonde gold-digger he calls \"Precious\". Dad hasn\\'t seen his daughters in ten years, they (oddly enough) don\\'t seem to mind and think he\\'s wonderful, and meanwhile Precious seems to lead a life mainly run by her overbearing mother (Alice Brady), a woman who just wants to see to it her daughter marries a rich man. The sisters get the idea of pushing Precious into the path of a drunken Hungarian count, tricking the two gold-digging women into thinking he is one of the richest men in Europe. But a case of mistaken identity makes the girls think the count is good-looking Ray Milland, who goes along with the scheme \\'cause he has a crush on sister Kay.<br /><br />This film is enjoyable, light fare. Barbara Read as Kay comes across as sweet and pretty, Ray Milland looks oh so young and handsome here (though, unfortunately, is given little to do), Alice Brady is quite good as the scheming mother - but it is Deanna Durbin, a real charmer and cute as a button playing youngest sister Penny, who pretty much steals the show. With absolutely beautiful vocals, she sings several songs throughout the film, though I actually would have liked to have seen them feature her even more in this. The plot in this film is a bit silly, but nevertheless, I found the film to be entertaining and fun.'"
            ],
            "application/vnd.google.colaboratory.intrinsic+json": {
              "type": "string"
            }
          },
          "metadata": {},
          "execution_count": 97
        }
      ],
      "source": [
        "df_imdb[\"texts\"][11]"
      ]
    },
    {
      "cell_type": "code",
      "execution_count": 98,
      "metadata": {
        "colab": {
          "base_uri": "https://localhost:8080/"
        },
        "id": "wRgPZmay8IL5",
        "outputId": "4a05dc64-867a-4ebf-fa26-cfbafd9c7a05"
      },
      "outputs": [
        {
          "output_type": "execute_result",
          "data": {
            "text/plain": [
              "1"
            ]
          },
          "metadata": {},
          "execution_count": 98
        }
      ],
      "source": [
        "df_imdb[\"labels\"][11]"
      ]
    },
    {
      "cell_type": "markdown",
      "metadata": {
        "id": "OlR7vyVu8f7s"
      },
      "source": [
        "## Naive Bayes\n",
        "next, we implement naive Bayes classification for sentiment classification. It is notable here, that NB is NOT a good approach for sentiment analysis, because it disregards context, syntax and semantics and is based on words rather than n-grams."
      ]
    },
    {
      "cell_type": "code",
      "execution_count": 99,
      "metadata": {
        "id": "YRji0YWF8hNR"
      },
      "outputs": [],
      "source": [
        "import random"
      ]
    },
    {
      "cell_type": "code",
      "execution_count": 100,
      "metadata": {
        "id": "l1IApTsa8pR5"
      },
      "outputs": [],
      "source": [
        "poss = df_imdb.loc[df_imdb[\"labels\"]==1][\"texts\"]\n",
        "negs = df_imdb.loc[df_imdb[\"labels\"]==0][\"texts\"]"
      ]
    },
    {
      "cell_type": "code",
      "execution_count": 101,
      "metadata": {
        "colab": {
          "base_uri": "https://localhost:8080/"
        },
        "id": "EHCksnpi83ZJ",
        "outputId": "3e2cba3b-b1e1-4a7f-93d1-f41d91509415"
      },
      "outputs": [
        {
          "output_type": "execute_result",
          "data": {
            "text/plain": [
              "pandas.core.series.Series"
            ]
          },
          "metadata": {},
          "execution_count": 101
        }
      ],
      "source": [
        "type(poss)"
      ]
    },
    {
      "cell_type": "code",
      "execution_count": 102,
      "metadata": {
        "id": "oC0IRLc288zj"
      },
      "outputs": [],
      "source": [
        "data_train = ([(pos, \"positive\") for pos in poss.to_list()[:10]]+\n",
        "              [(neg, \"negative\") for neg in negs.to_list()[:10]])"
      ]
    },
    {
      "cell_type": "code",
      "execution_count": 103,
      "metadata": {
        "colab": {
          "base_uri": "https://localhost:8080/"
        },
        "id": "FoKlNjeN-E6C",
        "outputId": "f185c2ef-b17c-4cd0-9811-fd76c823e04f"
      },
      "outputs": [
        {
          "output_type": "execute_result",
          "data": {
            "text/plain": [
              "tuple"
            ]
          },
          "metadata": {},
          "execution_count": 103
        }
      ],
      "source": [
        "type(data_train[2])"
      ]
    },
    {
      "cell_type": "code",
      "execution_count": 104,
      "metadata": {
        "id": "vKBgJPnI-c_c"
      },
      "outputs": [],
      "source": [
        "random.shuffle(data_train)"
      ]
    },
    {
      "cell_type": "code",
      "execution_count": 105,
      "metadata": {
        "id": "eYRTBwFp-vcO"
      },
      "outputs": [],
      "source": [
        "from nltk import NaiveBayesClassifier as nbc\n",
        "from itertools import chain"
      ]
    },
    {
      "cell_type": "code",
      "execution_count": 106,
      "metadata": {
        "id": "wJXqxnZD-7Sg"
      },
      "outputs": [],
      "source": [
        "# first, we build our vocabulary\n",
        "vocabulary = set( chain(*[tweet_tokenize(i[0].lower()) for i in data_train ] ) )"
      ]
    },
    {
      "cell_type": "code",
      "execution_count": 107,
      "metadata": {
        "id": "qSM4cMD-AAXo"
      },
      "outputs": [],
      "source": [
        "vocabulary = []\n",
        "for sentence in data_train:\n",
        "  vocabulary += tweet_tokenize(sentence[0].lower())\n",
        "vocabulary = list(set(vocabulary))"
      ]
    },
    {
      "cell_type": "code",
      "execution_count": 108,
      "metadata": {
        "colab": {
          "base_uri": "https://localhost:8080/"
        },
        "id": "l9fYW-zG_6sF",
        "outputId": "6fb54268-ba59-4c26-8666-269295d54fe7"
      },
      "outputs": [
        {
          "output_type": "execute_result",
          "data": {
            "text/plain": [
              "1567"
            ]
          },
          "metadata": {},
          "execution_count": 108
        }
      ],
      "source": [
        "len(vocabulary)"
      ]
    },
    {
      "cell_type": "code",
      "execution_count": 109,
      "metadata": {
        "id": "0ju9OO-X_9kN"
      },
      "outputs": [],
      "source": [
        "# we now build the feature set\n",
        "feature_set = [( {i: (i in tweet_tokenize(sentence.lower())) for i in vocabulary }, tag) for sentence, tag  in data_train ]"
      ]
    },
    {
      "cell_type": "code",
      "execution_count": 110,
      "metadata": {
        "id": "IJrIdiMrFfwj"
      },
      "outputs": [],
      "source": [
        "classifier = nbc.train(feature_set)"
      ]
    },
    {
      "cell_type": "code",
      "execution_count": 111,
      "metadata": {
        "colab": {
          "base_uri": "https://localhost:8080/",
          "height": 35
        },
        "id": "YMtU7np8Fz7y",
        "outputId": "20b1124c-bd74-4b59-8eb5-fcd8934a809c"
      },
      "outputs": [
        {
          "output_type": "execute_result",
          "data": {
            "text/plain": [
              "'negative'"
            ],
            "application/vnd.google.colaboratory.intrinsic+json": {
              "type": "string"
            }
          },
          "metadata": {},
          "execution_count": 111
        }
      ],
      "source": [
        "def featurize_sentence(sentence):\n",
        "  return {i: (i in tweet_tokenize(sentence.lower())) for i in vocabulary }\n",
        "\n",
        "classifier.classify(featurize_sentence(\"the movie is not bad!\"))"
      ]
    },
    {
      "cell_type": "code",
      "execution_count": 112,
      "metadata": {
        "id": "FYtBTw-nF_2D"
      },
      "outputs": [],
      "source": [
        "neg_vocab = list(chain(*[tweet_tokenize(neg) for neg in negs.to_list()[:10]]))"
      ]
    },
    {
      "cell_type": "code",
      "execution_count": 113,
      "metadata": {
        "colab": {
          "base_uri": "https://localhost:8080/"
        },
        "id": "MA5VlIgVHDEV",
        "outputId": "3ddc7863-9588-4960-e1f3-e053ea94b1e3"
      },
      "outputs": [
        {
          "output_type": "execute_result",
          "data": {
            "text/plain": [
              "FreqDist({'.': 107, 'the': 77, ',': 72, '<': 66, 'br': 66, '/': 66, '>': 66, 'of': 48, '\"': 48, 'and': 42, ...})"
            ]
          },
          "metadata": {},
          "execution_count": 113
        }
      ],
      "source": [
        "nltk.FreqDist(neg_vocab)"
      ]
    },
    {
      "cell_type": "markdown",
      "metadata": {
        "id": "BbNJsby_9cTN"
      },
      "source": [
        "We can improve that a little bit by removing all of these characters and stowords."
      ]
    },
    {
      "cell_type": "code",
      "execution_count": 114,
      "metadata": {
        "colab": {
          "base_uri": "https://localhost:8080/"
        },
        "id": "ir5fb-YhHLUU",
        "outputId": "81724f86-d78c-4c97-b8e4-66f103437888"
      },
      "outputs": [
        {
          "output_type": "stream",
          "name": "stderr",
          "text": [
            "[nltk_data] Downloading package stopwords to /root/nltk_data...\n",
            "[nltk_data]   Package stopwords is already up-to-date!\n"
          ]
        }
      ],
      "source": [
        "nltk.download(\"stopwords\")\n",
        "from nltk.corpus import stopwords"
      ]
    },
    {
      "cell_type": "code",
      "execution_count": 115,
      "metadata": {
        "colab": {
          "base_uri": "https://localhost:8080/"
        },
        "id": "fDVsf7WEHpws",
        "outputId": "21fbe584-90b1-43ab-9e78-c8bc5899f5e9"
      },
      "outputs": [
        {
          "output_type": "execute_result",
          "data": {
            "text/plain": [
              "['i',\n",
              " 'me',\n",
              " 'my',\n",
              " 'myself',\n",
              " 'we',\n",
              " 'our',\n",
              " 'ours',\n",
              " 'ourselves',\n",
              " 'you',\n",
              " \"you're\",\n",
              " \"you've\",\n",
              " \"you'll\",\n",
              " \"you'd\",\n",
              " 'your',\n",
              " 'yours',\n",
              " 'yourself',\n",
              " 'yourselves',\n",
              " 'he',\n",
              " 'him',\n",
              " 'his']"
            ]
          },
          "metadata": {},
          "execution_count": 115
        }
      ],
      "source": [
        "stopwords.words(\"english\")[:20]"
      ]
    },
    {
      "cell_type": "code",
      "execution_count": 116,
      "metadata": {
        "id": "7ZeHZizlHvH1"
      },
      "outputs": [],
      "source": [
        "def tokenize(sentence):\n",
        "  return [ w for w in tweet_tokenize(sentence) if w.lower() not in stopwords.words(\"english\")+[\".\", \",\", \"\\\"\", \";\", \":\"]]"
      ]
    },
    {
      "cell_type": "code",
      "execution_count": 117,
      "metadata": {
        "colab": {
          "base_uri": "https://localhost:8080/"
        },
        "id": "U9R10KPIIEFt",
        "outputId": "494465a0-6a62-408e-c879-1ae286664bb5"
      },
      "outputs": [
        {
          "output_type": "execute_result",
          "data": {
            "text/plain": [
              "['learning', 'NLP']"
            ]
          },
          "metadata": {},
          "execution_count": 117
        }
      ],
      "source": [
        "tokenize(\"I am learning NLP.\")"
      ]
    },
    {
      "cell_type": "code",
      "execution_count": 118,
      "metadata": {
        "id": "7ck71RJ5IHZF"
      },
      "outputs": [],
      "source": [
        "vocabulary2 = set( chain(*[tokenize(i[0].lower()) for i in data_train ] ) )"
      ]
    },
    {
      "cell_type": "code",
      "execution_count": 119,
      "metadata": {
        "id": "cqtjNz7TIpFF"
      },
      "outputs": [],
      "source": [
        "feature_set2 = [( {i: (i in tokenize(sentence.lower())) for i in vocabulary2 }, tag) for sentence, tag  in data_train ]"
      ]
    },
    {
      "cell_type": "code",
      "execution_count": 120,
      "metadata": {
        "colab": {
          "base_uri": "https://localhost:8080/"
        },
        "id": "SKFaL1wbI3wh",
        "outputId": "cfb1a79f-784f-4a11-9ada-fdea4a6b3d10"
      },
      "outputs": [
        {
          "output_type": "execute_result",
          "data": {
            "text/plain": [
              "FreqDist({'<': 66, 'br': 66, '/': 66, '>': 66, '(': 22, '!': 22, ')': 22, 'film': 11, '-': 11, 'movie': 8, ...})"
            ]
          },
          "metadata": {},
          "execution_count": 120
        }
      ],
      "source": [
        "neg_vocab = list(chain(*[tokenize(neg) for neg in negs.to_list()[:10]]))\n",
        "nltk.FreqDist(neg_vocab)"
      ]
    },
    {
      "cell_type": "markdown",
      "metadata": {
        "id": "EfWqhlLm9n2X"
      },
      "source": [
        "## Bonus: A good Sentiment analysis solution: Transformer based Language Models"
      ]
    },
    {
      "cell_type": "code",
      "execution_count": 121,
      "metadata": {
        "id": "O9BvI5MOJDXu"
      },
      "outputs": [],
      "source": [
        "!pip install -q transformers"
      ]
    },
    {
      "cell_type": "code",
      "execution_count": 122,
      "metadata": {
        "colab": {
          "base_uri": "https://localhost:8080/"
        },
        "id": "4Iq_UNNKKD9o",
        "outputId": "7a97e43a-fd48-4131-9988-777599297ce1"
      },
      "outputs": [
        {
          "output_type": "stream",
          "name": "stderr",
          "text": [
            "No model was supplied, defaulted to distilbert-base-uncased-finetuned-sst-2-english and revision af0f99b (https://huggingface.co/distilbert-base-uncased-finetuned-sst-2-english).\n",
            "Using a pipeline without specifying a model name and revision in production is not recommended.\n"
          ]
        }
      ],
      "source": [
        "from transformers import pipeline\n",
        "sentiment_pipeline = pipeline(\"sentiment-analysis\")"
      ]
    },
    {
      "cell_type": "code",
      "execution_count": 123,
      "metadata": {
        "colab": {
          "base_uri": "https://localhost:8080/"
        },
        "id": "ypwKPw11KRmv",
        "outputId": "3e095a5e-23ac-41b3-8d52-2e5c7e752464"
      },
      "outputs": [
        {
          "output_type": "stream",
          "name": "stdout",
          "text": [
            "0\n",
            "[{'label': 'NEGATIVE', 'score': 0.9995928406715393}]\n",
            "0\n",
            "[{'label': 'POSITIVE', 'score': 0.9809615015983582}]\n",
            "1\n",
            "[{'label': 'POSITIVE', 'score': 0.9997604489326477}]\n",
            "1\n",
            "[{'label': 'POSITIVE', 'score': 0.999556839466095}]\n",
            "1\n",
            "[{'label': 'POSITIVE', 'score': 0.9997072815895081}]\n",
            "0\n",
            "[{'label': 'NEGATIVE', 'score': 0.9919043183326721}]\n",
            "0\n",
            "[{'label': 'POSITIVE', 'score': 0.9856621623039246}]\n",
            "0\n",
            "[{'label': 'NEGATIVE', 'score': 0.9877058863639832}]\n",
            "0\n",
            "[{'label': 'NEGATIVE', 'score': 0.9952402114868164}]\n",
            "0\n",
            "[{'label': 'NEGATIVE', 'score': 0.998923122882843}]\n",
            "1\n",
            "[{'label': 'POSITIVE', 'score': 0.9072058796882629}]\n",
            "1\n",
            "[{'label': 'POSITIVE', 'score': 0.9997244477272034}]\n",
            "0\n",
            "[{'label': 'NEGATIVE', 'score': 0.997840404510498}]\n",
            "1\n",
            "[{'label': 'POSITIVE', 'score': 0.9996960163116455}]\n",
            "0\n",
            "[{'label': 'NEGATIVE', 'score': 0.9644811153411865}]\n",
            "1\n",
            "[{'label': 'POSITIVE', 'score': 0.9983195662498474}]\n",
            "1\n",
            "[{'label': 'NEGATIVE', 'score': 0.9901657700538635}]\n",
            "1\n",
            "[{'label': 'NEGATIVE', 'score': 0.9934014678001404}]\n",
            "0\n",
            "[{'label': 'POSITIVE', 'score': 0.994880199432373}]\n"
          ]
        }
      ],
      "source": [
        "for i in range(1,20):\n",
        "  print(df_imdb[\"labels\"][i])\n",
        "  print(sentiment_pipeline(df_imdb[\"texts\"][i][:500]))"
      ]
    }
  ],
  "metadata": {
    "colab": {
      "provenance": []
    },
    "kernelspec": {
      "display_name": "Python 3",
      "name": "python3"
    },
    "language_info": {
      "name": "python"
    }
  },
  "nbformat": 4,
  "nbformat_minor": 0
}