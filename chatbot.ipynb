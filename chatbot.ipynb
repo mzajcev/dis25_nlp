{
 "cells": [
  {
   "cell_type": "code",
   "execution_count": 1,
   "metadata": {},
   "outputs": [
    {
     "name": "stderr",
     "output_type": "stream",
     "text": [
      "[nltk_data] Downloading package stopwords to\n",
      "[nltk_data]     C:\\Users\\User\\AppData\\Roaming\\nltk_data...\n",
      "[nltk_data]   Package stopwords is already up-to-date!\n",
      "[nltk_data] Downloading package wordnet to\n",
      "[nltk_data]     C:\\Users\\User\\AppData\\Roaming\\nltk_data...\n",
      "[nltk_data]   Package wordnet is already up-to-date!\n"
     ]
    }
   ],
   "source": [
    "import nltk\n",
    "from nltk.corpus import stopwords\n",
    "from nltk.stem import WordNetLemmatizer\n",
    "from nltk.tokenize import word_tokenize\n",
    "from nltk.corpus import wordnet\n",
    "nltk.download('stopwords')\n",
    "nltk.download('wordnet')\n",
    "import re \n",
    "from spellchecker import SpellChecker\n",
    "import string\n",
    "from string import punctuation\n",
    "\n",
    "import re\n",
    "import joblib"
   ]
  },
  {
   "cell_type": "markdown",
   "metadata": {},
   "source": [
    "# Load Classifier"
   ]
  },
  {
   "cell_type": "code",
   "execution_count": 2,
   "metadata": {},
   "outputs": [],
   "source": [
    "# Load the saved classifier\n",
    "clf_logistic = joblib.load('.\\\\classifiers\\\\logistic_regression\\\\classifier.logistic_regression')\n",
    "vectorizer_logistic = joblib.load('.\\\\classifiers\\\\logistic_regression\\\\vectors.logistic_regression')\n",
    "clf_naive = joblib.load('.\\\\classifiers\\\\naive_bayes\\\\classifier.naive_bayes')\n",
    "vectorizer_naive = joblib.load('.\\\\classifiers\\\\naive_bayes\\\\vectors.naive_bayes')"
   ]
  },
  {
   "cell_type": "markdown",
   "metadata": {},
   "source": [
    "# Create synonyms"
   ]
  },
  {
   "cell_type": "code",
   "execution_count": 3,
   "metadata": {},
   "outputs": [
    {
     "name": "stdout",
     "output_type": "stream",
     "text": [
      "{'study', 'take apart', 'analyze', 'canvas', 'break down', 'psychoanalyse', 'dissect', 'examine', 'analyse', 'psychoanalyze', 'canvass'}\n"
     ]
    }
   ],
   "source": [
    "# Building a list of Keywords\n",
    "list_words=['hello','analyze', 'quit']\n",
    "list_syn={}\n",
    "for word in list_words:\n",
    "    synonyms=[]\n",
    "\n",
    "    # Create synonyms for each Keyword\n",
    "    for syn in wordnet.synsets(word):\n",
    "        for lem in syn.lemmas():\n",
    "\n",
    "            # Remove any special characters from synonym strings\n",
    "            lem_name = re.sub('[^a-zA-Z0-9 \\n\\.]', ' ', lem.name())\n",
    "            synonyms.append(lem_name)\n",
    "    list_syn[word]=set(synonyms)\n",
    "\n",
    "\n",
    "print (list_syn['analyze'])"
   ]
  },
  {
   "cell_type": "markdown",
   "metadata": {},
   "source": [
    "# Input Cleaning"
   ]
  },
  {
   "cell_type": "code",
   "execution_count": 4,
   "metadata": {},
   "outputs": [],
   "source": [
    "# English Stopwords for clean_user_input function\n",
    "stop_words = set(stopwords.words(\"english\"))\n",
    "# Spellchecker\n",
    "spell = SpellChecker()\n",
    "# Lemmatzier\n",
    "lemmatizer = WordNetLemmatizer()\n",
    "\n",
    "\n",
    "def clean_user_input(user_input):\n",
    "    # Remove HTML tags from user input\n",
    "    user_input_no_html = re.sub('<.*?>', '', user_input)\n",
    "\n",
    "    # Word Tokenization\n",
    "    user_input_token = word_tokenize(user_input_no_html)\n",
    "\n",
    "    # Lowercase and Remove punctuation\n",
    "    user_input_punct_lower = [x.lower() for x in user_input_token if x not in punctuation]\n",
    "\n",
    "    # Remove Numbers\n",
    "    user_input_no_num = [x for x in user_input_punct_lower if not x.isdigit()]\n",
    "\n",
    "    # Spellchecker\n",
    "    correct_words = [spell.correction(word) for word in user_input_no_num]\n",
    "\n",
    "    # Remove Stopwords\n",
    "    filtered_words = [word for word in correct_words if word not in stop_words]\n",
    "\n",
    "    # Lemmatization\n",
    "    base_words = [lemmatizer.lemmatize(word) for word in filtered_words]\n",
    "\n",
    "    # Join words into sentence\n",
    "    clean_response = ' '.join(base_words)\n",
    "\n",
    "    return clean_response"
   ]
  },
  {
   "cell_type": "markdown",
   "metadata": {},
   "source": [
    "# Chatbot"
   ]
  },
  {
   "cell_type": "code",
   "execution_count": 5,
   "metadata": {},
   "outputs": [],
   "source": [
    "def generate_response(user_input, whole_input, test_logistic, test_naive):\n",
    "    patterns = {\n",
    "        r'(?i)({}).*'.format('|'.join(list_syn['hello'])): \"Hi, which sentence should i analyze?\",\n",
    "        r'(?i)({}).*'.format('|'.join(list_syn['analyze'])): \"I will {}, but with which technique? Logistic Regression or Naive Bayes?\".format(user_input),\n",
    "        r'(?i)logistic.*': \"The result is {}\".format(test_logistic),\n",
    "        r'(?i)naive.*': \"The result is {}\".format(test_naive),\n",
    "    }\n",
    "\n",
    "\n",
    "    for pattern, response in patterns.items():\n",
    "        match = re.match(pattern, user_input)\n",
    "        if match:\n",
    "            if pattern == r'logistic$' or pattern == r'naive$':\n",
    "                return None\n",
    "            else:\n",
    "                return response\n",
    "    return \"I'm sorry, but I'm not sure I understand.\""
   ]
  },
  {
   "cell_type": "code",
   "execution_count": 6,
   "metadata": {},
   "outputs": [
    {
     "name": "stdout",
     "output_type": "stream",
     "text": [
      "Hi\n",
      "I'm sorry, but I'm not sure I understand.\n",
      "Hi, which sentence should i analyze?\n",
      "Hi, which sentence should i analyze?\n",
      "I will analyze best movie ever, but with which technique? Logistic Regression or Naive Bayes?\n",
      "whole_input: best movie ever\n",
      "I'm sorry, but I'm not sure I understand.\n",
      "The result is \n",
      "best movie ever\n",
      "psotive\n"
     ]
    }
   ],
   "source": [
    "def chat():\n",
    "    print(\"Hi\")\n",
    "    whole_input = \"\"\n",
    "    test_logistic = \"\"\n",
    "    test_naive = \"\"\n",
    "\n",
    "    while True:\n",
    "        user_input = input(\"You: \")\n",
    "\n",
    "        response = generate_response(user_input, whole_input, test_logistic, test_naive)\n",
    "        if response is not None:\n",
    "            print(response)\n",
    "\n",
    "        match_test = re.match(r'(?i)(?:{})\\s*(.*)'.format('|'.join(list_syn['analyze'])), user_input)\n",
    "        if match_test:\n",
    "            whole_input = match_test.group(1)  # Extract the content after \"analyze \"\n",
    "            print(\"whole_input:\", whole_input)\n",
    "\n",
    "        if user_input.lower() == 'logistic':\n",
    "            test_logistic = clf_logistic.predict(vectorizer_logistic.transform([clean_user_input(whole_input)]))\n",
    "            print(whole_input) # Remove - just testing\n",
    "            if test_logistic == 0:\n",
    "                test_logistic = 'negative'\n",
    "                print(test_logistic)  \n",
    "            else:\n",
    "                test_logistic = 'psotive'\n",
    "                print(test_logistic)        \n",
    "\n",
    "        if user_input.lower() == 'naive':\n",
    "            test_naive = clf_naive.predict(vectorizer_naive.transform([clean_user_input(whole_input)]))\n",
    "            print(whole_input) # Remove - just testing\n",
    "            if test_naive == 0:\n",
    "                test_naive = 'negative'\n",
    "                print(test_naive)\n",
    "            else:\n",
    "                test_naive = 'psotive'\n",
    "                print(test_naive)\n",
    "                \n",
    "\n",
    "        else:\n",
    "            None\n",
    "# Example usage\n",
    "chat()\n"
   ]
  },
  {
   "cell_type": "markdown",
   "metadata": {},
   "source": [
    "# Testing"
   ]
  },
  {
   "cell_type": "code",
   "execution_count": 5,
   "metadata": {},
   "outputs": [],
   "source": [
    "def generate_response(user_input, whole_input, test_logistic, test_naive):\n",
    "    patterns = {\n",
    "        r'(?i)({}).*'.format('|'.join(list_syn['hello'])): \"Hi, which sentence should I analyze?\",\n",
    "        r'(?i)({}).*'.format('|'.join(list_syn['analyze'])): \"I will {}, but with which technique? Logistic Regression or Naive Bayes?\".format(user_input),\n",
    "        r'(?i)logistic$': \"The result is {}\".format(test_logistic),\n",
    "        r'(?i)naive$': \"The result is {}\".format(test_naive),\n",
    "    }\n",
    "\n",
    "    for pattern, response in patterns.items():\n",
    "        match = re.match(pattern, user_input)\n",
    "        if match:\n",
    "            return response\n",
    "\n",
    "    return \"I'm sorry, but I'm not sure I understand.\"\n"
   ]
  },
  {
   "cell_type": "code",
   "execution_count": 6,
   "metadata": {},
   "outputs": [
    {
     "name": "stdout",
     "output_type": "stream",
     "text": [
      "Hi\n",
      "I'm sorry, but I'm not sure I understand.\n",
      "Hi, which sentence should I analyze?\n",
      "Hi, which sentence should I analyze?\n",
      "I will analyze Best Love, but with which technique? Logistic Regression or Naive Bayes?\n",
      "whole_input: Best Love\n",
      "I will analyze Best Love, but with which technique? Logistic Regression or Naive Bayes?\n",
      "whole_input: Best Love\n",
      "I will analyze Best Love, but with which technique? Logistic Regression or Naive Bayes?\n",
      "whole_input: Best Love\n",
      "The result is \n",
      "Best Love\n",
      "psotive\n"
     ]
    }
   ],
   "source": [
    "def chat():\n",
    "    print(\"Hi\")\n",
    "    whole_input = \"\"\n",
    "    test_logistic = \"\"\n",
    "    test_naive = \"\"\n",
    "\n",
    "    while True:\n",
    "        user_input = input(\"You: \")\n",
    "\n",
    "        response = generate_response(user_input, whole_input, test_logistic, test_naive)\n",
    "        if response is not None:\n",
    "            print(response)\n",
    "\n",
    "        match_test = re.match(r'(?i)(?:{})\\s*(.*)'.format('|'.join(list_syn['analyze'])), user_input)\n",
    "        if match_test:\n",
    "            whole_input = match_test.group(1)  # Extract the content after \"analyze \"\n",
    "            print(\"whole_input:\", whole_input)\n",
    "\n",
    "        if user_input.lower() == 'logistic':\n",
    "            test_logistic = clf_logistic.predict(vectorizer_logistic.transform([clean_user_input(whole_input)]))\n",
    "            print(whole_input) # Remove - just testing\n",
    "            if test_logistic == 0:\n",
    "                test_logistic = 'negative'\n",
    "                print(test_logistic)  \n",
    "            else:\n",
    "                test_logistic = 'psotive'\n",
    "                print(test_logistic)        \n",
    "\n",
    "        if user_input.lower() == 'naive':\n",
    "            test_naive = clf_naive.predict(vectorizer_naive.transform([clean_user_input(whole_input)]))\n",
    "            print(whole_input) # Remove - just testing\n",
    "            if test_naive == 0:\n",
    "                test_naive = 'negative'\n",
    "                print(test_naive)\n",
    "            else:\n",
    "                test_naive = 'psotive'\n",
    "                print(test_naive)\n",
    "                \n",
    "\n",
    "        else:\n",
    "            None\n",
    "# Example usage\n",
    "chat()\n"
   ]
  }
 ],
 "metadata": {
  "kernelspec": {
   "display_name": ".venv",
   "language": "python",
   "name": "python3"
  },
  "language_info": {
   "codemirror_mode": {
    "name": "ipython",
    "version": 3
   },
   "file_extension": ".py",
   "mimetype": "text/x-python",
   "name": "python",
   "nbconvert_exporter": "python",
   "pygments_lexer": "ipython3",
   "version": "3.11.4"
  },
  "orig_nbformat": 4
 },
 "nbformat": 4,
 "nbformat_minor": 2
}
