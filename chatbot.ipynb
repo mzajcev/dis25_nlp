{
 "cells": [
  {
   "cell_type": "code",
   "execution_count": 2,
   "metadata": {},
   "outputs": [
    {
     "name": "stderr",
     "output_type": "stream",
     "text": [
      "[nltk_data] Downloading package stopwords to\n",
      "[nltk_data]     C:\\Users\\User\\AppData\\Roaming\\nltk_data...\n",
      "[nltk_data]   Package stopwords is already up-to-date!\n",
      "[nltk_data] Downloading package wordnet to\n",
      "[nltk_data]     C:\\Users\\User\\AppData\\Roaming\\nltk_data...\n",
      "[nltk_data]   Package wordnet is already up-to-date!\n"
     ]
    }
   ],
   "source": [
    "import nltk\n",
    "from nltk.corpus import stopwords\n",
    "nltk.download('stopwords')\n",
    "from nltk.stem import WordNetLemmatizer\n",
    "nltk.download('wordnet')\n",
    "from nltk.corpus import wordnet\n",
    "import re \n",
    "from spellchecker import SpellChecker\n",
    "import string"
   ]
  },
  {
   "cell_type": "markdown",
   "metadata": {},
   "source": [
    "# Pre-Running"
   ]
  },
  {
   "cell_type": "code",
   "execution_count": 3,
   "metadata": {},
   "outputs": [
    {
     "name": "stdout",
     "output_type": "stream",
     "text": [
      "{'dissect', 'study', 'canvas', 'take apart', 'psychoanalyse', 'canvass', 'analyse', 'psychoanalyze', 'analyze', 'break down', 'examine'}\n"
     ]
    }
   ],
   "source": [
    "# Building a list of Keywords\n",
    "list_words=['hello','analyze', 'quit']\n",
    "list_syn={}\n",
    "for word in list_words:\n",
    "    synonyms=[]\n",
    "\n",
    "    # Create synonyms for each Keyword\n",
    "    for syn in wordnet.synsets(word):\n",
    "        for lem in syn.lemmas():\n",
    "\n",
    "            # Remove any special characters from synonym strings\n",
    "            lem_name = re.sub('[^a-zA-Z0-9 \\n\\.]', ' ', lem.name())\n",
    "            synonyms.append(lem_name)\n",
    "    list_syn[word]=set(synonyms)\n",
    "\n",
    "\n",
    "print (list_syn['analyze'])"
   ]
  },
  {
   "cell_type": "code",
   "execution_count": 12,
   "metadata": {},
   "outputs": [
    {
     "name": "stdout",
     "output_type": "stream",
     "text": [
      "Hi\n"
     ]
    },
    {
     "name": "stdout",
     "output_type": "stream",
     "text": [
      "Mr. C-Bot: How can I help you?\n",
      "Mr. C-Bot: How can I help you?\n",
      "Mr. C-Bot: analyze plot film predictable saw twist coming mile away\n"
     ]
    }
   ],
   "source": [
    "# English Stopwords for clean_user_input function\n",
    "stop_words = set(stopwords.words(\"english\"))\n",
    "# Spellchecker\n",
    "spell = SpellChecker()\n",
    "# Lemmatzier\n",
    "lemmatizer = WordNetLemmatizer()\n",
    "\n",
    "\n",
    "def clean_user_input(user_input):\n",
    "    # Lowercase user input\n",
    "    user_input_lower = user_input.lower()\n",
    "\n",
    "    # Remove punctuation\n",
    "    user_input_punct = user_input_lower.translate(str.maketrans('', '', string.punctuation))\n",
    "    \n",
    "    # Spellchecker\n",
    "    words = user_input_punct.split()\n",
    "    correct_words = [spell.correction(word) for word in words]\n",
    "\n",
    "    # Remove Stopwords\n",
    "    filtered_words = [word for word in correct_words if word not in stop_words]\n",
    "\n",
    "    # Lemmatization\n",
    "    base_words = [lemmatizer.lemmatize(word) for word in filtered_words]\n",
    "\n",
    "    # Join words into sentence              \n",
    "    lower_case_response = ' '.join(base_words)\n",
    "    \n",
    "    return lower_case_response\n",
    "\n",
    "\n",
    "\n",
    "def generate_response(user_input):\n",
    "    patterns = {\n",
    "        r'(?i)({}).*'.format('|'.join(list_syn['hello'])): \"How can I help you?\",\n",
    "        r'(?i)analyze.*': \"{}\".format(clean_user_input(user_input)),\n",
    "        r'(?i)quite.*': \"See You!\"\n",
    "    }\n",
    "    for pattern, response in patterns.items():\n",
    "        match = re.match(pattern, user_input)\n",
    "        if match:\n",
    "            return response\n",
    "    return \"I'm sorry, but I'm not sure I understand.\"\n",
    "\n",
    "\n",
    "\n",
    "def chat():\n",
    "    print(\"Hi\")\n",
    "    while True:\n",
    "        user_input = input(\"You: \")\n",
    "\n",
    "        if user_input.lower() == 'analyze':\n",
    "            lower_case_response = clean_user_input(user_input)\n",
    "            print(lower_case_response)\n",
    "\n",
    "        # Here: Call Function for Logistic Regression or Naiv Bayes\n",
    "\n",
    "        if user_input.lower() == 'quit':\n",
    "            print(\"Goodbye!\")\n",
    "            break\n",
    "\n",
    "        response = generate_response(user_input)\n",
    "        print(\"Mr. C-Bot:\", response)\n",
    "\n",
    "# Example usage\n",
    "chat()\n"
   ]
  }
 ],
 "metadata": {
  "kernelspec": {
   "display_name": ".venv",
   "language": "python",
   "name": "python3"
  },
  "language_info": {
   "codemirror_mode": {
    "name": "ipython",
    "version": 3
   },
   "file_extension": ".py",
   "mimetype": "text/x-python",
   "name": "python",
   "nbconvert_exporter": "python",
   "pygments_lexer": "ipython3",
   "version": "3.11.4"
  },
  "orig_nbformat": 4
 },
 "nbformat": 4,
 "nbformat_minor": 2
}
