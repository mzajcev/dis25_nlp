{
 "cells": [
  {
   "cell_type": "code",
   "execution_count": 1,
   "metadata": {},
   "outputs": [],
   "source": [
    "import tensorflow_datasets as tfds\n",
    "data = tfds.load('imdb_reviews')\n",
    "#https://www.tensorflow.org/datasets/catalog/imdb_reviews\n"
   ]
  },
  {
   "cell_type": "code",
   "execution_count": 2,
   "metadata": {},
   "outputs": [
    {
     "data": {
      "text/plain": [
       "{'train': <_PrefetchDataset element_spec={'label': TensorSpec(shape=(), dtype=tf.int64, name=None), 'text': TensorSpec(shape=(), dtype=tf.string, name=None)}>,\n",
       " 'test': <_PrefetchDataset element_spec={'label': TensorSpec(shape=(), dtype=tf.int64, name=None), 'text': TensorSpec(shape=(), dtype=tf.string, name=None)}>,\n",
       " 'unsupervised': <_PrefetchDataset element_spec={'label': TensorSpec(shape=(), dtype=tf.int64, name=None), 'text': TensorSpec(shape=(), dtype=tf.string, name=None)}>}"
      ]
     },
     "execution_count": 2,
     "metadata": {},
     "output_type": "execute_result"
    }
   ],
   "source": [
    "data"
   ]
  },
  {
   "cell_type": "code",
   "execution_count": 3,
   "metadata": {},
   "outputs": [
    {
     "data": {
      "text/plain": [
       "dict_keys(['train', 'test', 'unsupervised'])"
      ]
     },
     "execution_count": 3,
     "metadata": {},
     "output_type": "execute_result"
    }
   ],
   "source": [
    "data.keys()"
   ]
  },
  {
   "cell_type": "code",
   "execution_count": 4,
   "metadata": {},
   "outputs": [
    {
     "name": "stdout",
     "output_type": "stream",
     "text": [
      "train : 25000\n",
      "test : 25000\n",
      "unsupervised : 50000\n"
     ]
    }
   ],
   "source": [
    "for l in data.keys():\n",
    "  print(l, \":\", len(data[l]))"
   ]
  },
  {
   "cell_type": "code",
   "execution_count": 5,
   "metadata": {},
   "outputs": [
    {
     "name": "stdout",
     "output_type": "stream",
     "text": [
      "{'label': <tf.Tensor: shape=(), dtype=int64, numpy=1>, 'text': <tf.Tensor: shape=(), dtype=string, numpy=b\"There are films that make careers. For George Romero, it was NIGHT OF THE LIVING DEAD; for Kevin Smith, CLERKS; for Robert Rodriguez, EL MARIACHI. Add to that list Onur Tukel's absolutely amazing DING-A-LING-LESS. Flawless film-making, and as assured and as professional as any of the aforementioned movies. I haven't laughed this hard since I saw THE FULL MONTY. (And, even then, I don't think I laughed quite this hard... So to speak.) Tukel's talent is considerable: DING-A-LING-LESS is so chock full of double entendres that one would have to sit down with a copy of this script and do a line-by-line examination of it to fully appreciate the, uh, breadth and width of it. Every shot is beautifully composed (a clear sign of a sure-handed director), and the performances all around are solid (there's none of the over-the-top scenery chewing one might've expected from a film like this). DING-A-LING-LESS is a film whose time has come.\">}\n",
      "{'label': <tf.Tensor: shape=(), dtype=int64, numpy=1>, 'text': <tf.Tensor: shape=(), dtype=string, numpy=b\"A blackly comic tale of a down-trodden priest, Nazarin showcases the economy that Luis Bunuel was able to achieve in being able to tell a deeply humanist fable with a minimum of fuss. As an output from his Mexican era of film making, it was an invaluable talent to possess, with little money and extremely tight schedules. Nazarin, however, surpasses many of Bunuel's previous Mexican films in terms of the acting (Francisco Rabal is excellent), narrative and theme.<br /><br />The theme, interestingly, is something that was explored again in Viridiana, made three years later in Spain. It concerns the individual's struggle for humanity and altruism amongst a society that rejects any notion of virtue. Father Nazarin, however, is portrayed more sympathetically than Sister Viridiana. Whereas the latter seems to choose charity because she wishes to atone for her (perceived) sins, Nazarin's whole existence and reason for being seems to be to help others, whether they (or we) like it or not. The film's last scenes, in which he casts doubt on his behaviour and, in a split second, has to choose between the life he has been leading or the conventional life that is expected of a priest, are so emotional because they concern his moral integrity and we are never quite sure whether it remains intact or not.<br /><br />This is a remarkable film and I would urge anyone interested in classic cinema to seek it out. It is one of Bunuel's most moving films, and encapsulates many of his obsessions: frustrated desire, mad love, religious hypocrisy etc. In my view 'Nazarin' is second only to 'The Exterminating Angel', in terms of his Mexican movies, and is certainly near the top of the list of Bunuel's total filmic output.\">}\n",
      "{'label': <tf.Tensor: shape=(), dtype=int64, numpy=0>, 'text': <tf.Tensor: shape=(), dtype=string, numpy=b'Scary Movie 1-4, Epic Movie, Date Movie, Meet the Spartans, Not another Teen Movie and Another Gay Movie. Making \"Superhero Movie\" the eleventh in a series that single handily ruined the parody genre. Now I\\'ll admit it I have a soft spot for classics such as Airplane and The Naked Gun but you know you\\'ve milked a franchise so bad when you can see the gags a mile off. In fact the only thing that might really temp you into going to see this disaster is the incredibly funny but massive sell-out Leslie Neilson.<br /><br />You can tell he needs the money, wither that or he intends to go down with the ship like a good Capitan would. In no way is he bringing down this genre but hell he\\'s not helping it. But if I feel sorry for anybody in this film its decent actor Drake Bell who is put through an immense amount of embarrassment. The people who are put through the largest amount of torture by far however is the audience forced to sit through 90 minutes of laughless bile no funnier than herpes.<br /><br />After spoofing disaster films in Airplane!, police shows in The Naked Gun, and Hollywood horrors in Scary Movie 3 and 4, producer David Zucker sets his satirical sights on the superhero genre with this anarchic comedy lampooning everything from Spider-Man to X-Men and Superman Returns.<br /><br />Shortly after being bitten by a genetically altered dragonfly, high-school outcast Rick Riker (Drake Bell) begins to experience a startling transformation. Now Rick\\'s skin is as strong as steel, and he possesses the strength of ten men. Determined to use his newfound powers to fight crime, Rick creates a special costume and assumes the identity of The Dragonfly -- a fearless crime fighter dedicated to keeping the streets safe for law-abiding citizens.<br /><br />But every superhero needs a nemesis, and after Lou Landers (Christopher McDonald) is caught in the middle of an experiment gone horribly awry, he develops the power to leech the life force out of anyone he meets and becomes the villainous Hourglass. Intent on achieving immortality, the Hourglass attempts to gather as much life force as possible as the noble Dragonfly sets out to take down his archenemy and realize his destiny as a true hero. Craig Mazin writes and directs this low-flying spoof.<br /><br />featuring Tracy Morgan, Pamela Anderson, Leslie Nielsen, Marion Ross, Jeffrey Tambor, and Regina Hall.<br /><br />Hell Superhero Movie may earn some merit in the fact that it\\'s a hell of a lot better than Meet the Spartans and Epic Movie. But with great responsibility comes one of the worst outings of 2008 to date. Laughless but a little less irritating than Meet the Spartans. And in the same sense much more forgettable than meet the Spartans. But maybe that\\'s a good reason. There are still some of us trying to scrape away the stain that was Meet the Spartans from our memory.<br /><br />My final verdict? Avoid, unless you\\'re one of thoses people who enjoy such car crash cinema. As bad as Date Movie and Scary Movie 2 but not quite as bad as Meet the Spartans or Epic Movie. Super Villain.'>}\n",
      "{'label': <tf.Tensor: shape=(), dtype=int64, numpy=0>, 'text': <tf.Tensor: shape=(), dtype=string, numpy=b'Poor Shirley MacLaine tries hard to lend some gravitas to this mawkish, gag-inducing \"feel-good\" movie, but she\\'s trampled by the run-away sentimentality of a film that\\'s not the least bit grounded in reality.<br /><br />This was directed by Curtis Hanson? Did he have a lobotomy since we last heard from him? Hanson can do effective drama sprinkled with comedy, as evidenced by \"Wonder Boys.\" So I don\\'t know what happened to him here. This is the kind of movie that doesn\\'t want to accept that life is messy and fussy, and that neat, tidy endings (however implausible they might be) might make for a nice closing shot, but come across as utterly phony if the people watching the film have been through anything remotely like what the characters in the film go through.<br /><br />My wife and I made a game of calling out the plot points before they occurred -- e.g. \"the old man\\'s going to teach her to read and then drop dead.\" Bingo! This is one of those movies where the characters give little speeches summarizing their emotional problems, making you wonder why they still have emotional problems if they\\'re that aware of what\\'s causing them. Toni Collette (a fine actress, by the way, and one of my favorites if not given a lot to work with here), gives a speech early on about why she buys so many shoes and never wears them, spelling out in flashing neon the film\\'s awkward connecting motif. At that moment, I knew what I was in for, and the film was a downward spiral from there.<br /><br />Grade: C-'>}\n"
     ]
    },
    {
     "name": "stderr",
     "output_type": "stream",
     "text": [
      "2023-07-08 12:51:36.292129: W tensorflow/core/kernels/data/cache_dataset_ops.cc:854] The calling iterator did not fully read the dataset being cached. In order to avoid unexpected truncation of the dataset, the partially cached contents of the dataset  will be discarded. This can happen if you have an input pipeline similar to `dataset.cache().take(k).repeat()`. You should use `dataset.take(k).cache().repeat()` instead.\n"
     ]
    }
   ],
   "source": [
    "for ex in data[\"test\"].take(4):\n",
    "  print(ex)"
   ]
  },
  {
   "cell_type": "code",
   "execution_count": 6,
   "metadata": {},
   "outputs": [
    {
     "name": "stdout",
     "output_type": "stream",
     "text": [
      "{'label': <tf.Tensor: shape=(), dtype=int64, numpy=0>, 'text': <tf.Tensor: shape=(), dtype=string, numpy=b\"This was an absolutely terrible movie. Don't be lured in by Christopher Walken or Michael Ironside. Both are great actors, but this must simply be their worst role in history. Even their great acting could not redeem this movie's ridiculous storyline. This movie is an early nineties US propaganda piece. The most pathetic scenes were those when the Columbian rebels were making their cases for revolutions. Maria Conchita Alonso appeared phony, and her pseudo-love affair with Walken was nothing but a pathetic emotional plug in a movie that was devoid of any real meaning. I am disappointed that there are movies like this, ruining actor's like Christopher Walken's good name. I could barely sit through it.\">}\n",
      "{'label': <tf.Tensor: shape=(), dtype=int64, numpy=0>, 'text': <tf.Tensor: shape=(), dtype=string, numpy=b'I have been known to fall asleep during films, but this is usually due to a combination of things including, really tired, being warm and comfortable on the sette and having just eaten a lot. However on this occasion I fell asleep because the film was rubbish. The plot development was constant. Constantly slow and boring. Things seemed to happen, but with no explanation of what was causing them or why. I admit, I may have missed part of the film, but i watched the majority of it and everything just seemed to happen of its own accord without any real concern for anything else. I cant recommend this film at all.'>}\n",
      "{'label': <tf.Tensor: shape=(), dtype=int64, numpy=0>, 'text': <tf.Tensor: shape=(), dtype=string, numpy=b'Mann photographs the Alberta Rocky Mountains in a superb fashion, and Jimmy Stewart and Walter Brennan give enjoyable performances as they always seem to do. <br /><br />But come on Hollywood - a Mountie telling the people of Dawson City, Yukon to elect themselves a marshal (yes a marshal!) and to enforce the law themselves, then gunfighters battling it out on the streets for control of the town? <br /><br />Nothing even remotely resembling that happened on the Canadian side of the border during the Klondike gold rush. Mr. Mann and company appear to have mistaken Dawson City for Deadwood, the Canadian North for the American Wild West.<br /><br />Canadian viewers be prepared for a Reefer Madness type of enjoyable howl with this ludicrous plot, or, to shake your head in disgust.'>}\n",
      "{'label': <tf.Tensor: shape=(), dtype=int64, numpy=1>, 'text': <tf.Tensor: shape=(), dtype=string, numpy=b'This is the kind of film for a snowy Sunday afternoon when the rest of the world can go ahead with its own business as you descend into a big arm-chair and mellow for a couple of hours. Wonderful performances from Cher and Nicolas Cage (as always) gently row the plot along. There are no rapids to cross, no dangerous waters, just a warm and witty paddle through New York life at its best. A family film in every sense and one that deserves the praise it received.'>}\n"
     ]
    },
    {
     "name": "stderr",
     "output_type": "stream",
     "text": [
      "2023-07-08 12:51:42.206821: W tensorflow/core/kernels/data/cache_dataset_ops.cc:854] The calling iterator did not fully read the dataset being cached. In order to avoid unexpected truncation of the dataset, the partially cached contents of the dataset  will be discarded. This can happen if you have an input pipeline similar to `dataset.cache().take(k).repeat()`. You should use `dataset.take(k).cache().repeat()` instead.\n"
     ]
    }
   ],
   "source": [
    "for ex in data[\"train\"].take(4):\n",
    "  print(ex)"
   ]
  },
  {
   "cell_type": "code",
   "execution_count": 7,
   "metadata": {},
   "outputs": [
    {
     "name": "stdout",
     "output_type": "stream",
     "text": [
      "{'label': <tf.Tensor: shape=(), dtype=int64, numpy=-1>, 'text': <tf.Tensor: shape=(), dtype=string, numpy=b\"SPOILER - Now knowing the ending I find it so clever that the whole movie takes place in a motel and each character has a different room. Even sane people have many different aspects to their personality, but they don't let them become dominant -- they are controlled. Malcolm's various personalities and needs were personified in each character. The prostitute mother (Amanda Peet), the part of him who hated her for being a prostitute (Larry), the loving mother he wish he had, the loving father he wish he had, the selfish part of himself (actress), the violent part of his personality (Ray Liotta and Busey), the irrational emotions he feels and his need to be loved (Ginnie) and his attempts to control those feelings (Lou), the hurt little boy who sees far too many traumatic things in his life, and of course, John Cusack who seems to represent Malcolm himself trying to analyze and understand all the craziness in his mind, tries to follow the rules (accepting responsibility for the car accident), help others (giving Amanda Peet a ride, and stitching up the mother). Very cleverly done!\">}\n",
      "{'label': <tf.Tensor: shape=(), dtype=int64, numpy=-1>, 'text': <tf.Tensor: shape=(), dtype=string, numpy=b'I knew about this film long before I saw it. In fact, I had to buy the DVD in order to see it because no video store carried it. I didn\\'t mind spending the $12 to buy it used because I collect off the wall movies. The new limited edition double DVD has great sound and visually not bad. I found myself laughing much more then<br /><br />jolting in fear, although there were a few scenes were I was startled.<br /><br />If you enjoy off the wall 70s sci-fi/horror movies, you probably will eat this one up. I was a little dissapointed at how abrubtly it ended. I wanted the movie to keep going, see how things pan out. The DVD revolution has brought so many<br /><br />lost clasics back to life, it is truly wonderful. Blue Sunshine is one of those lost \"missing links\" of the cinema. Enjoy!'>}\n",
      "{'label': <tf.Tensor: shape=(), dtype=int64, numpy=-1>, 'text': <tf.Tensor: shape=(), dtype=string, numpy=b\"This movie is really really awful. It's as bad as Zombie 90 well maybe not that bad but pretty close. If your a fan of the Italian horror movies then you might like this movie. I thought that it was dam near unwatchable of course I'm not a fan of the Italian movies. The only Italian movie that was OK was Jungle holocaust. Which is one overrated movie. This film is way overrated. But let's get started with how horrible this film really is shall we. The acting is goofy and horrible. The effects suck. No plot with this movie. Little gore which is the only good thing in the film isn't showed nearly enough to be worth watching this wreck. The zombies are very fake looking. It looks like it's a bunch of dudes wearing cheap dollar store masks. Please avoid this film at all costs.\">}\n",
      "{'label': <tf.Tensor: shape=(), dtype=int64, numpy=-1>, 'text': <tf.Tensor: shape=(), dtype=string, numpy=b'Wait a minute... yes I do.<br /><br />The director of \\'The Breed\\' has obviously seen Terry Gilliam\\'s \\'Brazil\\' a few too many times and asked himself the question, \"If \\'Brazil\\' had been an ill-conceived tale about vampires in the near future, what would it be like?\" Well, I\\'ll tell ya, it\\'d be like 91 minutes of a Swedish whore kicking you in the groin, only not as satisfying. The dialogue was laced with gratuitous curse words and trite one-liners, and whoever edited this piece of crap should be shot. I have no real idea of exactly how the whole thing ended because I\\'m not really sure what happened during the first part of the film. With so many subplots your head begins to hurt and so much bad acting your head wants to explode this movie should only be viewed with large quantities of beer and at least two other people you can MST3K with. The only thing that made me not stab myself in the eye with a dirty soup spoon was this line: Evil Doctor Guy: \"That\\'s it, you are not James Bond, and I am not Blofeld. No more explanations!\" Dude From Jason\\'s Lyric: \"I\\'m getting paid scale!\" The cinematography was shaky at best and the acting was putrid. Also, what was with all the pseudo-1984 posters and PA announcements? The costumes were from the 50\\'s, the cars were from the 60\\'s, the music was from the 90\\'s and I wish I were dead. This movie sucks.'>}\n"
     ]
    },
    {
     "name": "stderr",
     "output_type": "stream",
     "text": [
      "2023-07-08 12:52:26.897918: W tensorflow/core/kernels/data/cache_dataset_ops.cc:854] The calling iterator did not fully read the dataset being cached. In order to avoid unexpected truncation of the dataset, the partially cached contents of the dataset  will be discarded. This can happen if you have an input pipeline similar to `dataset.cache().take(k).repeat()`. You should use `dataset.take(k).cache().repeat()` instead.\n"
     ]
    }
   ],
   "source": [
    "for ex in data[\"unsupervised\"].take(4):\n",
    "  print(ex)"
   ]
  },
  {
   "cell_type": "code",
   "execution_count": 8,
   "metadata": {},
   "outputs": [
    {
     "name": "stdout",
     "output_type": "stream",
     "text": [
      "[\"I couldn't stand this film. The acting was terrible and the plot made no sense.\\n\", 'An amazing piece of cinema. The performances were brilliant, and the story was captivating.\\n', \"The Offce is a total gem! I laugh so hard, I can't even. Steve Carell is hilariousss!.\\n\", \"I was disappointed with this movie. It didn't live up to the hype.\\n\", \"The Crwn is a lavish treat! The costumes 'n sets are gorgeous. Makes me feel like royalty!.\\n\", 'I found this film to be quite boring. It lacked excitement and failed to engage me.\\n', 'This movie was hilarious! I laughed from start to finish.\\n', \"Black Mirror is creepy AF! It messes with yer mind 'n makes ya question everything. Watch with caution!.\\n\", \"I had high hopes for this series, but it was a total letdown. The plot was all over the place, and the characters were flat. I wouldn't waste my time on it.\\n\", 'The acting in this film was superb. Each actor delivered a powerful performance.\\n', \"I couldn't stop thinking about this movie after I watched it. It left a lasting impression.\\n\", 'The special effects in this film were mind-blowing. It was visually stunning.\\n', 'I expected more from this movie. The story felt rushed, and the ending was unsatisfying.\\n', 'This film was a complete waste of time. I regret watching it.\\n', \"LOL! Friends is like my daily dose of laughter. The cast is amazin' 'n the jokes are hilarious. Must watch for comedy fans!.\\n\", 'The dialogue in this movie was sharp and witty. The writing was top-notch.\\n', 'I was on the edge of my seat throughout the entire film. It was a thrilling experience.\\n', \"I didn't understand the hype surrounding this movie. It didn't live up to my expectations.\\n\", \"I don't understand why people find this sitcom funny. The humor was juvenile, and the characters were annoying. It made me roll my eyes more than laugh.\\n\", 'The performances in this film were lackluster. The actors seemed disengaged.\\n', 'The pacing of this film was perfect. It kept me engaged from start to finish.\\n', 'I was pleasantly surprised by this movie. It exceeded my expectations.\\n', \"I didn't enjoy this film at all. The story was confusing, and the characters were unlikable.\\n\", 'The cinematography in this movie was breathtaking. Each frame was a work of art.\\n', 'I was moved to tears by this film. It evoked strong emotions within me.\\n', 'This movie was a lot of fun. It had a great mix of action and humor.\\n', 'The plot of this film was predictable. I saw the twists coming from a mile away.\\n', \"I don't get the hype around this series. The '80s nostalgia felt forced, and the supernatural elements were cheesy. It felt like a cheap knockoff.\\n\", \"This movie was a letdown. It didn't deliver on its promising premise.\\n\", 'I was captivated by the story of this film. It had me hooked from the beginning.\\n', 'The visual effects in this movie were impressive. They added to the overall experience.\\n', \"OMG! Totally addictin'! The twists 'n turns had me on the edge of my seet. Can't wait for the next season!.\\n\", 'I was disappointed by the ending of this movie. It felt rushed and unsatisfying.\\n', 'The dialogue in this movie was weak. It felt forced and unnatural.\\n', \"Sherlok is genius! The actin' is mind-boglin' good. Benedict Cumberbatch nails it!.\\n\", 'I was on the edge of my seat throughout this film. It was suspenseful and thrilling.\\n', 'Meh, this show tried too hard to be edgy and mysterious. The twists were predictable, and the pacing was painfully slow. I was just bored.\\n', \"I didn't like the direction of this movie. It felt disjointed and lacked coherence.\\n\", 'This movie was a pleasant surprise. It offered a fresh take on the genre.\\n', 'The performances in this film were outstanding. The actors brought the characters to life.\\n', 'I was bored by this film. The story was slow-paced and uneventful.\\n', \"Seriously, this TV show was like a bad acid trip. The writing was cringe-worthy, and the acting was sooo over-the-top. I couldn't take it seriously.\\n\", 'This movie was emotionally charged. It made me laugh and cry.\\n', 'The production design in this film was impressive. It created a rich and immersive world.\\n', \"Strngr Thngs is retro awesum! I was sooo hooked from the first episode. The kids' actin' is off the charts!.\\n\", \"I was underwhelmed by this movie. It didn't live up to its promising premise.\\n\", 'This film kept me on the edge of my seat. I was constantly guessing what would happen next.\\n', 'The acting in this movie was subpar. It felt amateurish and unconvincing.\\n', 'I was deeply moved by this film. It tackled important themes with sensitivity and depth.\\n', \"Mindblowin' show! Actin' in it is top-notch and keeps ya hooked 'til the end. Highly recommended!.\"]\n"
     ]
    }
   ],
   "source": [
    "with open(\"datasets_tests.txt\", \"r\") as data_test:\n",
    "\tlines = data_test.readlines()\n",
    "\tprint(lines)"
   ]
  },
  {
   "cell_type": "code",
   "execution_count": 9,
   "metadata": {},
   "outputs": [],
   "source": [
    "# to do:\n",
    "#Conversational System: Design and implement a chatbot using regular\n",
    "#expressions to recognize user intents.\n",
    "\n",
    "# Sentiment Analysis: Train a logistic regression model to analyze the\n",
    "# sentiment of user reviews.\n",
    "\n",
    "# Integration: Integrate the sentiment analysis model into the\n",
    "# conversational system to generate appropriate responses based on sentiment."
   ]
  },
  {
   "cell_type": "code",
   "execution_count": 11,
   "metadata": {},
   "outputs": [],
   "source": [
    "# to do:\n",
    "\n",
    "\n",
    "# Description of IMDB dataset\n",
    "# Report some numbers like the number of reviews, the number of positive and negative ones…\n",
    "# Ploting the analysis can be considered as aditional features.\n",
    "# Preprocessing you performed\n",
    "\n",
    "# Description of the classifier process\n",
    "# How did you train your classifier? (Write about the training process)\n",
    " \n",
    "#  Evaluation\n",
    "# Test your classfier with 50 samples we shared with you\n",
    "# Report the results of evaluation metrics on the test samples\n",
    "# What challenges did you ecnounter? How did you solve?'"
   ]
  },
  {
   "cell_type": "code",
   "execution_count": null,
   "metadata": {},
   "outputs": [],
   "source": []
  }
 ],
 "metadata": {
  "kernelspec": {
   "display_name": "env",
   "language": "python",
   "name": "python3"
  },
  "language_info": {
   "codemirror_mode": {
    "name": "ipython",
    "version": 3
   },
   "file_extension": ".py",
   "mimetype": "text/x-python",
   "name": "python",
   "nbconvert_exporter": "python",
   "pygments_lexer": "ipython3",
   "version": "3.10.4"
  },
  "orig_nbformat": 4
 },
 "nbformat": 4,
 "nbformat_minor": 2
}
